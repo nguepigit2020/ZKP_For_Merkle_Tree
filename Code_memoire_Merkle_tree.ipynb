{
 "cells": [
  {
   "cell_type": "code",
   "execution_count": 7,
   "metadata": {
    "collapsed": false
   },
   "outputs": [],
   "source": [
    "from hashlib import*\n",
    "from math import*\n",
    "from csv import *\n",
    "from hashlib import * \n",
    "import os\n",
    "import random"
   ]
  },
  {
   "cell_type": "code",
   "execution_count": 8,
   "metadata": {
    "collapsed": false
   },
   "outputs": [],
   "source": [
    "L=[4,45,10,14,58,18,\"Nguepi\",\"Nguefack\",\"Tondji\"]"
   ]
  },
  {
   "cell_type": "code",
   "execution_count": 9,
   "metadata": {
    "collapsed": true
   },
   "outputs": [],
   "source": [
    "## Check if the number is the power of two or not.\n",
    "def Check_power_two(x):\n",
    "    n=log(x)/log(2)\n",
    "    if n.is_integer():\n",
    "        return True\n",
    "    return False"
   ]
  },
  {
   "cell_type": "code",
   "execution_count": 10,
   "metadata": {
    "collapsed": false
   },
   "outputs": [
    {
     "data": {
      "text/plain": [
       "True"
      ]
     },
     "execution_count": 10,
     "metadata": {},
     "output_type": "execute_result"
    }
   ],
   "source": [
    "Check_power_two(32)"
   ]
  },
  {
   "cell_type": "code",
   "execution_count": 11,
   "metadata": {
    "collapsed": false
   },
   "outputs": [],
   "source": [
    "## This function allow us to solve padding probleme.\n",
    "def Check_data_len(L):\n",
    "    while Check_power_two(len(L))==False:\n",
    "        L.append(random.randrange(0, 10000, 1))\n",
    "    return L       "
   ]
  },
  {
   "cell_type": "code",
   "execution_count": 12,
   "metadata": {
    "collapsed": true
   },
   "outputs": [],
   "source": [
    "## This function allow us to hash all the elements of the list L \n",
    "def Return_Hashlist(L):\n",
    "    List_result=[]\n",
    "    for i in range(len(L)):\n",
    "        List_result.append(sha256(str(L[i])).hexdigest())\n",
    "    return List_result  "
   ]
  },
  {
   "cell_type": "code",
   "execution_count": 15,
   "metadata": {
    "collapsed": true
   },
   "outputs": [],
   "source": [
    "## This function allow us to add an element L in the dictionnary Dict at the position i\n",
    "def Add_list(L,Dict,i):\n",
    "    Dict[str(i)]=L\n",
    "    return Dict"
   ]
  },
  {
   "cell_type": "code",
   "execution_count": 16,
   "metadata": {
    "collapsed": true
   },
   "outputs": [],
   "source": [
    "#Give the hash of the concatenation of H1 and H2.\n",
    "def Add_and_hash(H1,H2):\n",
    "    return sha256(H1+H2).hexdigest()"
   ]
  },
  {
   "cell_type": "code",
   "execution_count": 17,
   "metadata": {
    "collapsed": false
   },
   "outputs": [],
   "source": [
    "#This function transform the content of csv file into a list.\n",
    "def Transform_csv_file_on_list(filePath):\n",
    "    filePath = '/home/nguepi/Bureau/Test.csv'\n",
    "    \n",
    "    fileOpen = open(filePath, 'rU')\n",
    "    # opening the file for reading in Universal NewLine (rU) \n",
    "\n",
    "    fileReader = reader(fileOpen)\n",
    "    # initializing the CSV Reader for traversing data inside the csv file\n",
    "\n",
    "    data_list = []\n",
    "    for row in fileReader :\n",
    "\n",
    "        for tnx in row :\n",
    "\n",
    "            currentItem = str(tnx)\n",
    "            data_list.append(currentItem)\n",
    "    return data_list"
   ]
  },
  {
   "cell_type": "code",
   "execution_count": 18,
   "metadata": {
    "collapsed": false
   },
   "outputs": [
    {
     "data": {
      "text/plain": [
       "32"
      ]
     },
     "execution_count": 18,
     "metadata": {},
     "output_type": "execute_result"
    }
   ],
   "source": [
    "L2=Transform_csv_file_on_list('/home/nguepi/Bureau/example.csv')\n",
    "len(L2)"
   ]
  },
  {
   "cell_type": "code",
   "execution_count": 19,
   "metadata": {
    "collapsed": true
   },
   "outputs": [],
   "source": [
    "L4=[1,2,3,4]"
   ]
  },
  {
   "cell_type": "code",
   "execution_count": 20,
   "metadata": {
    "collapsed": false
   },
   "outputs": [],
   "source": [
    "def Merkle_tree(L):\n",
    "    j=2\n",
    "    Dict={}\n",
    "    Check_data_len(L)\n",
    "    Dict[str(0)]=L\n",
    "    L1=Return_Hashlist(L)\n",
    "    Add_list(L1,Dict,1)\n",
    "    while j<=int(log(len(L))/log(2)+1):\n",
    "        Lis=[]\n",
    "        for i in range(((len(L1)-1)//2)+1):\n",
    "            Lis.append(Add_and_hash(L1[2*i],L1[2*i+1]))\n",
    "        Add_list(Lis,Dict,j) \n",
    "        L1=Lis\n",
    "        j+=1  \n",
    "    return Dict"
   ]
  },
  {
   "cell_type": "code",
   "execution_count": 21,
   "metadata": {
    "collapsed": false
   },
   "outputs": [
    {
     "data": {
      "text/plain": [
       "{'0': [1, 2, 3, 4],\n",
       " '1': ['6b86b273ff34fce19d6b804eff5a3f5747ada4eaa22f1d49c01e52ddb7875b4b',\n",
       "  'd4735e3a265e16eee03f59718b9b5d03019c07d8b6c51f90da3a666eec13ab35',\n",
       "  '4e07408562bedb8b60ce05c1decfe3ad16b72230967de01f640b7e4729b49fce',\n",
       "  '4b227777d4dd1fc61c6f884f48641d02b4d121d3fd328cb08b5531fcacdabf8a'],\n",
       " '2': ['33b675636da5dcc86ec847b38c08fa49ff1cace9749931e0a5d4dfdbdedd808a',\n",
       "  '13656c83d841ea7de6ebf3a89e0038fea9526bd7f686f06f7a692343a8a32dca'],\n",
       " '3': ['85df8945419d2b5038f7ac83ec1ec6b8267c40fdb3b1e56ff62f6676eb855e70']}"
      ]
     },
     "execution_count": 21,
     "metadata": {},
     "output_type": "execute_result"
    }
   ],
   "source": [
    "d=Merkle_tree(L4)\n",
    "d"
   ]
  },
  {
   "cell_type": "code",
   "execution_count": 22,
   "metadata": {
    "collapsed": false
   },
   "outputs": [],
   "source": [
    "def check_position_in_List(L,r):\n",
    "    L=Check_data_len(L)\n",
    "    if r in L:\n",
    "        k=L.index(r)\n",
    "        if k%2==0 and k!=len(L)-1:\n",
    "            return L[k+1]\n",
    "        else:\n",
    "            return L[k-1]\n",
    "    else:\n",
    "        print('{} is not in this list'.format(r))\n",
    "        print(L)"
   ]
  },
  {
   "cell_type": "code",
   "execution_count": 23,
   "metadata": {
    "collapsed": true
   },
   "outputs": [],
   "source": [
    "L5=[1,2,3,4,5,6,7,8,'Nguepi',78]\n"
   ]
  },
  {
   "cell_type": "code",
   "execution_count": 24,
   "metadata": {
    "collapsed": false
   },
   "outputs": [
    {
     "data": {
      "text/plain": [
       "'Nguepi'"
      ]
     },
     "execution_count": 24,
     "metadata": {},
     "output_type": "execute_result"
    }
   ],
   "source": [
    "check_position_in_List(L5,78) "
   ]
  },
  {
   "cell_type": "code",
   "execution_count": 25,
   "metadata": {
    "collapsed": true
   },
   "outputs": [],
   "source": [
    "def Check_element(L,e):\n",
    "    if e in L:\n",
    "        return True\n",
    "    return False\n",
    "    #print('{} n appartiens pas a la liste'.format(e))"
   ]
  },
  {
   "cell_type": "code",
   "execution_count": 26,
   "metadata": {
    "collapsed": false
   },
   "outputs": [],
   "source": [
    "def nguepi(d,r):\n",
    "    list_ = [] \n",
    "    A=d[str(int((log(len(d[str(0)]))/log(2))+1))]\n",
    "    if Check_element(d[str(0)],r): \n",
    "        index = d[str(0)].index(r) +1\n",
    "    if index % 2 != 0:\n",
    "        list_.append(d[str(1)][index-1])\n",
    "        list_.append(d[str(1)][index])\n",
    "        s = d[str(1)][index-1]\n",
    "        t = d[str(1)][index]\n",
    "    if index % 2 == 0:\n",
    "        list_.append(d[str(1)][index-2])\n",
    "        list_.append(d[str(1)][index-1])\n",
    "        s = d[str(1)][index-2]\n",
    "        t = d[str(1)][index-1]\n",
    "    for i in range(2, int((log(len(d[str(0)]))/log(2))+1)):\n",
    "        hach = Add_and_hash(s,t)\n",
    "        index = d[str(i)].index(hach) +1\n",
    "        list_.append(d[str(i)][index-2])\n",
    "        if index % 2 != 0:\n",
    "            s = d[str(i)][index-1]\n",
    "            t = d[str(i)][index]\n",
    "        if index % 2 == 0:\n",
    "            s = d[str(i)][index-2]\n",
    "            t = d[str(i)][index-1]\n",
    "    return list_,A"
   ]
  },
  {
   "cell_type": "code",
   "execution_count": 27,
   "metadata": {
    "collapsed": false,
    "scrolled": true
   },
   "outputs": [
    {
     "data": {
      "text/plain": [
       "['6b86b273ff34fce19d6b804eff5a3f5747ada4eaa22f1d49c01e52ddb7875b4b',\n",
       " 'd4735e3a265e16eee03f59718b9b5d03019c07d8b6c51f90da3a666eec13ab35',\n",
       " '13656c83d841ea7de6ebf3a89e0038fea9526bd7f686f06f7a692343a8a32dca']"
      ]
     },
     "execution_count": 27,
     "metadata": {},
     "output_type": "execute_result"
    }
   ],
   "source": [
    "La,A=nguepi(d,2)\n",
    "e='6b86b273ff34fce19d6b804eff5a3f5747ada4eaa22f1d49c01e52ddb7875b4b'\n",
    "La"
   ]
  },
  {
   "cell_type": "code",
   "execution_count": 28,
   "metadata": {
    "collapsed": false
   },
   "outputs": [
    {
     "data": {
      "text/plain": [
       "['85df8945419d2b5038f7ac83ec1ec6b8267c40fdb3b1e56ff62f6676eb855e70']"
      ]
     },
     "execution_count": 28,
     "metadata": {},
     "output_type": "execute_result"
    }
   ],
   "source": [
    "A"
   ]
  },
  {
   "cell_type": "code",
   "execution_count": 29,
   "metadata": {
    "collapsed": false
   },
   "outputs": [
    {
     "data": {
      "text/plain": [
       "'33b675636da5dcc86ec847b38c08fa49ff1cace9749931e0a5d4dfdbdedd808a'"
      ]
     },
     "execution_count": 29,
     "metadata": {},
     "output_type": "execute_result"
    }
   ],
   "source": [
    "Add_and_hash(La[0],La[1])"
   ]
  },
  {
   "cell_type": "code",
   "execution_count": 31,
   "metadata": {
    "collapsed": false
   },
   "outputs": [
    {
     "data": {
      "text/plain": [
       "True"
      ]
     },
     "execution_count": 31,
     "metadata": {},
     "output_type": "execute_result"
    }
   ],
   "source": [
    "def Check_Membership(L,e,A):\n",
    "    Lis_stock=[]\n",
    "    if e not in L:\n",
    "        print('L element {} n appartient pas a cette liste'.format(e))\n",
    "    else:\n",
    "        h=Add_and_hash(L[0],L[1])\n",
    "        Lis_stock.append(h)\n",
    "        for i in range(2,len(L)):\n",
    "            h_=Add_and_hash(Lis_stock[0],L[i])\n",
    "            Lis_stock[0]=h_\n",
    "        if Lis_stock[0]==A[0]:\n",
    "            return  True\n",
    "        return False\n",
    "Check_Membership(La,e,A)            "
   ]
  },
  {
   "cell_type": "code",
   "execution_count": null,
   "metadata": {
    "collapsed": true
   },
   "outputs": [],
   "source": []
  },
  {
   "cell_type": "code",
   "execution_count": 32,
   "metadata": {
    "collapsed": true
   },
   "outputs": [],
   "source": [
    "def nguepi222(d,r):\n",
    "    list_ = []\n",
    "    index = d[str(0)].index(r) +1\n",
    "    if index % 2 != 0:\n",
    "        list_.append(d[str(1)][index-1])\n",
    "        list_.append(d[str(1)][index])\n",
    "        s = d[str(1)][index-1]\n",
    "        t = d[str(1)][index]\n",
    "    if index % 2 == 0:\n",
    "        list_.append(d[str(1)][index-2])\n",
    "        list_.append(d[str(1)][index-1])\n",
    "        s = d[str(1)][index-2]\n",
    "        t = d[str(1)][index-1]\n",
    "    for i in range(2, int((log(len(d[str(0)]))/log(2))+1)):\n",
    "        hach = Add_and_hash(s,t)\n",
    "        index = d[str(i)].index(hach) +1\n",
    "        list_.append(d[str(i)][index]) ## -1\n",
    "        if index % 2 != 0:\n",
    "            s = d[str(i)][index-1]\n",
    "            t = d[str(i)][index]\n",
    "        if index % 2 == 0:\n",
    "            s = d[str(i)][index-2]\n",
    "            t = d[str(i)][index-1]\n",
    "    return list_"
   ]
  },
  {
   "cell_type": "code",
   "execution_count": 33,
   "metadata": {
    "collapsed": false
   },
   "outputs": [
    {
     "data": {
      "text/plain": [
       "(['6b86b273ff34fce19d6b804eff5a3f5747ada4eaa22f1d49c01e52ddb7875b4b',\n",
       "  'd4735e3a265e16eee03f59718b9b5d03019c07d8b6c51f90da3a666eec13ab35',\n",
       "  '13656c83d841ea7de6ebf3a89e0038fea9526bd7f686f06f7a692343a8a32dca'],\n",
       " ['85df8945419d2b5038f7ac83ec1ec6b8267c40fdb3b1e56ff62f6676eb855e70'])"
      ]
     },
     "execution_count": 33,
     "metadata": {},
     "output_type": "execute_result"
    }
   ],
   "source": [
    "\n",
    "nguepi(d,2)"
   ]
  },
  {
   "cell_type": "code",
   "execution_count": 34,
   "metadata": {
    "collapsed": true
   },
   "outputs": [],
   "source": [
    "def gcd(a, b):\n",
    "    \"\"\"\n",
    "    Performs the Euclidean algorithm and returns the gcd of a and b\n",
    "    \"\"\"\n",
    "    if (b == 0):\n",
    "        return a\n",
    "    else:\n",
    "        return gcd(b, a % b)"
   ]
  },
  {
   "cell_type": "code",
   "execution_count": 35,
   "metadata": {
    "collapsed": true
   },
   "outputs": [],
   "source": [
    "def chooseE(totient):\n",
    "    \"\"\"\n",
    "    Chooses a random number, 1 < e < totient, and checks whether or not it is \n",
    "    coprime with the totient, that is, gcd(e, totient) = 1\n",
    "    \"\"\"\n",
    "    while (True):\n",
    "        e = random.randrange(2, totient)\n",
    "\n",
    "        if (gcd(e, totient) == 1):\n",
    "            return e"
   ]
  },
  {
   "cell_type": "code",
   "execution_count": 36,
   "metadata": {
    "collapsed": false
   },
   "outputs": [],
   "source": [
    "## Check if the number is prime or not\n",
    "def Is_prime(p):\n",
    "    result=[]\n",
    "    j=0\n",
    "    for i in range(1,p+1):\n",
    "        if p%i==0:\n",
    "            j+=1\n",
    "    if j==2:\n",
    "        return True\n",
    "    return False "
   ]
  },
  {
   "cell_type": "code",
   "execution_count": 37,
   "metadata": {
    "collapsed": true
   },
   "outputs": [],
   "source": [
    "def verifier_challenge(p):\n",
    "    if Is_prime(p):\n",
    "        return random.randint(1,p-1)\n",
    "    print(\"Veillez etrer un nombre premier!!!!\")"
   ]
  },
  {
   "cell_type": "code",
   "execution_count": 43,
   "metadata": {
    "collapsed": false
   },
   "outputs": [],
   "source": [
    "### Begin which the proof\n",
    "def prover(g,h,p,d,x,r):\n",
    "    ##convert x in integer\n",
    "    if not Is_prime(p):\n",
    "        print('{} n est pas premier!!!!'.format(p))\n",
    "    else:   \n",
    "        C=(pow(g,x)*pow(h,r))%p\n",
    "        k=random.randint(0,p-1)\n",
    "        t=random.randint(0,p-1)\n",
    "        R=(pow(g,k)*pow(h,t))%p\n",
    "        c=verifier_challenge(p)\n",
    "        z=k-c*x\n",
    "        y=t-c*r\n",
    "        pi,A=nguepi(d,x) ## d represent the Merkle tree\n",
    "        elt=pi[int(d[str(0)].index(x))]\n",
    "    \n",
    "    return z,y,pi,A[0],C,c,R,elt"
   ]
  },
  {
   "cell_type": "code",
   "execution_count": 49,
   "metadata": {
    "collapsed": false
   },
   "outputs": [],
   "source": [
    "g=2\n",
    "h=2\n",
    "p=5\n",
    "z,y,pi,A[0],C,c,R,elt=prover(2,2,7,d,2,4)\n"
   ]
  },
  {
   "cell_type": "code",
   "execution_count": 50,
   "metadata": {
    "collapsed": true
   },
   "outputs": [],
   "source": [
    "#### Begin which verification\n",
    "def Verifier(g,h,p,z,y,pi,A,C,c,R,elt): #pi is hash list of intermediaite note\n",
    "    r=(pow(C,c)*pow(g,z)*pow(h,y))%p\n",
    "    bol=Check_Membership(pi,elt,A) \n",
    "    if bol==True and r==R:\n",
    "        return True\n",
    "    return False"
   ]
  },
  {
   "cell_type": "code",
   "execution_count": 51,
   "metadata": {
    "collapsed": false
   },
   "outputs": [
    {
     "data": {
      "text/plain": [
       "False"
      ]
     },
     "execution_count": 51,
     "metadata": {},
     "output_type": "execute_result"
    }
   ],
   "source": [
    "Verifier(g,h,p,z,y,pi,A,C,c,R,elt)"
   ]
  },
  {
   "cell_type": "code",
   "execution_count": 52,
   "metadata": {
    "collapsed": false
   },
   "outputs": [
    {
     "name": "stdout",
     "output_type": "stream",
     "text": [
      "L element 6b86b273ff34fce19d6b804eff5a3f5747ada4eaa22f1d49c01e52ddb7875b4b n'appartient a Data\n"
     ]
    }
   ],
   "source": [
    "def __main__():\n",
    "    g=2\n",
    "    h=2\n",
    "    p=7\n",
    "    Data= d\n",
    "    x=1\n",
    "    r=4\n",
    "    z,y,pi,A,C,c,R,elt=prover(g,h,p,d,x,r)\n",
    "    \n",
    "    if Verifier(g,h,p,z,y,pi,A,C,c,R,elt)==True:\n",
    "        print(\"L element {} appartient a Data\".format(elt))\n",
    "    else:\n",
    "        print(\"L element {} n'appartient a Data\".format(elt))\n",
    "__main__()"
   ]
  },
  {
   "cell_type": "code",
   "execution_count": 53,
   "metadata": {
    "collapsed": false
   },
   "outputs": [
    {
     "name": "stdout",
     "output_type": "stream",
     "text": [
      "L element {} n'appartient a Data\n"
     ]
    }
   ],
   "source": [
    "print \"L element {} n'appartient a Data\""
   ]
  },
  {
   "cell_type": "code",
   "execution_count": 54,
   "metadata": {
    "collapsed": false
   },
   "outputs": [
    {
     "name": "stdout",
     "output_type": "stream",
     "text": [
      "Object `hash_data_structures` not found.\n"
     ]
    }
   ],
   "source": [
    "hash_data_structures?"
   ]
  },
  {
   "cell_type": "code",
   "execution_count": null,
   "metadata": {
    "collapsed": true
   },
   "outputs": [],
   "source": []
  }
 ],
 "metadata": {
  "kernelspec": {
   "display_name": "Python 2",
   "language": "python",
   "name": "python2"
  },
  "language_info": {
   "codemirror_mode": {
    "name": "ipython",
    "version": 2
   },
   "file_extension": ".py",
   "mimetype": "text/x-python",
   "name": "python",
   "nbconvert_exporter": "python",
   "pygments_lexer": "ipython2",
   "version": "2.7.13"
  }
 },
 "nbformat": 4,
 "nbformat_minor": 2
}
