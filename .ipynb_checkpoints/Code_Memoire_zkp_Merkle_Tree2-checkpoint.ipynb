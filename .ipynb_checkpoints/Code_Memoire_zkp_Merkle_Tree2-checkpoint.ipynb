{
 "cells": [
  {
   "cell_type": "code",
   "execution_count": 1,
   "metadata": {
    "collapsed": true
   },
   "outputs": [],
   "source": [
    "from hashlib import*\n",
    "from math import*\n",
    "from csv import *\n",
    "from hashlib import * \n",
    "import os\n",
    "import random"
   ]
  },
  {
   "cell_type": "code",
   "execution_count": 2,
   "metadata": {
    "collapsed": true
   },
   "outputs": [],
   "source": [
    "L=[1,2,3,4,5,6,7,8,9,10,11,12,13,14,15,16,17,18,19,20,\"Nguepi\",\"Nguefack\",\"Tondji\"]\n",
    "L1=[1,2,3,4]\n"
   ]
  },
  {
   "cell_type": "code",
   "execution_count": 3,
   "metadata": {
    "collapsed": true
   },
   "outputs": [],
   "source": [
    "## Check if the number is the power of two or not.\n",
    "def Check_power_two(x):\n",
    "    n=log(x)/log(2)\n",
    "    if n.is_integer():\n",
    "        return True\n",
    "    return False"
   ]
  },
  {
   "cell_type": "code",
   "execution_count": 4,
   "metadata": {
    "collapsed": true
   },
   "outputs": [],
   "source": [
    "## This function allow us to solve padding probleme.\n",
    "def Check_data_len(L):\n",
    "    while Check_power_two(len(L))==False:\n",
    "        L.append(random.randrange(0, 10000, 1))\n",
    "    return L       "
   ]
  },
  {
   "cell_type": "code",
   "execution_count": 5,
   "metadata": {
    "collapsed": true
   },
   "outputs": [],
   "source": [
    "## This function allow us to hash all the elements of the list L \n",
    "def Return_Hashlist(L):\n",
    "    List_result=[]\n",
    "    for i in range(len(L)):\n",
    "        List_result.append(sha256(str(L[i])).hexdigest())\n",
    "    return List_result  "
   ]
  },
  {
   "cell_type": "code",
   "execution_count": 6,
   "metadata": {
    "collapsed": true
   },
   "outputs": [],
   "source": [
    "## This function allow us to add an element L in the dictionnary Dict at the position i\n",
    "def Add_list(L,Dict,i):\n",
    "    Dict[str(i)]=L\n",
    "    return Dict"
   ]
  },
  {
   "cell_type": "code",
   "execution_count": 162,
   "metadata": {
    "collapsed": true
   },
   "outputs": [],
   "source": [
    "#Give the hash of the concatenation of H1 and H2.\n",
    "def Add_and_hash(H1,H2):\n",
    "    return sha256(H1+H2).hexdigest()"
   ]
  },
  {
   "cell_type": "code",
   "execution_count": 163,
   "metadata": {
    "collapsed": true
   },
   "outputs": [],
   "source": [
    "def Merkle_tree(L):\n",
    "    j=2\n",
    "    Dict={}\n",
    "    Check_data_len(L)\n",
    "    Dict[str(0)]=L\n",
    "    L1=Return_Hashlist(L)\n",
    "    Add_list(L1,Dict,1)\n",
    "    while j<=int(log(len(L))/log(2)+1):\n",
    "        Lis=[]\n",
    "        for i in range(((len(L1)-1)//2)+1):\n",
    "            Lis.append(Add_and_hash(L1[2*i],L1[2*i+1]))\n",
    "        Add_list(Lis,Dict,j) \n",
    "        L1=Lis\n",
    "        j+=1  \n",
    "    return Dict"
   ]
  },
  {
   "cell_type": "code",
   "execution_count": 164,
   "metadata": {
    "collapsed": false
   },
   "outputs": [],
   "source": [
    "d=Merkle_tree(L)"
   ]
  },
  {
   "cell_type": "code",
   "execution_count": 165,
   "metadata": {
    "collapsed": false
   },
   "outputs": [
    {
     "data": {
      "text/plain": [
       "{'0': [1,\n",
       "  2,\n",
       "  3,\n",
       "  4,\n",
       "  5,\n",
       "  6,\n",
       "  7,\n",
       "  8,\n",
       "  9,\n",
       "  10,\n",
       "  11,\n",
       "  12,\n",
       "  13,\n",
       "  14,\n",
       "  15,\n",
       "  16,\n",
       "  17,\n",
       "  18,\n",
       "  19,\n",
       "  20,\n",
       "  'Nguepi',\n",
       "  'Nguefack',\n",
       "  'Tondji',\n",
       "  57,\n",
       "  3059,\n",
       "  9627,\n",
       "  4989,\n",
       "  1977,\n",
       "  9280,\n",
       "  6888,\n",
       "  6391,\n",
       "  3785],\n",
       " '1': ['6b86b273ff34fce19d6b804eff5a3f5747ada4eaa22f1d49c01e52ddb7875b4b',\n",
       "  'd4735e3a265e16eee03f59718b9b5d03019c07d8b6c51f90da3a666eec13ab35',\n",
       "  '4e07408562bedb8b60ce05c1decfe3ad16b72230967de01f640b7e4729b49fce',\n",
       "  '4b227777d4dd1fc61c6f884f48641d02b4d121d3fd328cb08b5531fcacdabf8a',\n",
       "  'ef2d127de37b942baad06145e54b0c619a1f22327b2ebbcfbec78f5564afe39d',\n",
       "  'e7f6c011776e8db7cd330b54174fd76f7d0216b612387a5ffcfb81e6f0919683',\n",
       "  '7902699be42c8a8e46fbbb4501726517e86b22c56a189f7625a6da49081b2451',\n",
       "  '2c624232cdd221771294dfbb310aca000a0df6ac8b66b696d90ef06fdefb64a3',\n",
       "  '19581e27de7ced00ff1ce50b2047e7a567c76b1cbaebabe5ef03f7c3017bb5b7',\n",
       "  '4a44dc15364204a80fe80e9039455cc1608281820fe2b24f1e5233ade6af1dd5',\n",
       "  '4fc82b26aecb47d2868c4efbe3581732a3e7cbcc6c2efb32062c08170a05eeb8',\n",
       "  '6b51d431df5d7f141cbececcf79edf3dd861c3b4069f0b11661a3eefacbba918',\n",
       "  '3fdba35f04dc8c462986c992bcf875546257113072a909c162f7e470e581e278',\n",
       "  '8527a891e224136950ff32ca212b45bc93f69fbb801c3b1ebedac52775f99e61',\n",
       "  'e629fa6598d732768f7c726b4b621285f9c3b85303900aa912017db7617d8bdb',\n",
       "  'b17ef6d19c7a5b1ee83b907c595526dcb1eb06db8227d650d5dda0a9f4ce8cd9',\n",
       "  '4523540f1504cd17100c4835e85b7eefd49911580f8efff0599a8f283be6b9e3',\n",
       "  '4ec9599fc203d176a301536c2e091a19bc852759b255bd6818810a42c5fed14a',\n",
       "  '9400f1b21cb527d7fa3d3eabba93557a18ebe7a2ca4e471cfe5e4c5b4ca7f767',\n",
       "  'f5ca38f748a1d6eaf726b8a42fb575c3c71f1864a8143301782de13da2d9202b',\n",
       "  'e21ec6bfc717c9a812c2f7b1421ff0ee0cc03d57ff3df554abe30b09741f8d19',\n",
       "  '54868ac01036097129524afef9375822015ec03a0d934734e6f42966c0f9aa6a',\n",
       "  '8811fcef8213248d6df935505f3a68b4ffacc04436354703e30fc25b3040b3dc',\n",
       "  'c837649cce43f2729138e72cc315207057ac82599a59be72765a477f22d14a54',\n",
       "  '084d9897d40c63e437d57e2c4bd01e889ca4781088b5a73aa9761d6134993a75',\n",
       "  '41907372481ad56f63caae8f3c3d5f2eb5c53c0af56d1d0ac140ff0ddc5d5f26',\n",
       "  '0709e1008834c2ca8648376ac62d74ac8df5457069cbfedf2b0776dab07a3c5b',\n",
       "  '576c85c584f60555c2a024cbb99dfbbdb5f58c3bdcf28dbc8ea315fd46a388f3',\n",
       "  '958c9e58139db36e4a6d03be9c17a9a2d6a7e8494769aaab7a79c739d41ac2ef',\n",
       "  '4090f0acd977d34943f4f02ed775683284f2abb6e909548ddcf1a1d916634924',\n",
       "  '5972b901807fac6a70720fd1b4bf15bc9c00a41c1ffbf53d4038924c54cbcd2a',\n",
       "  'c69f0baaa1af7cebe9998a386323206afb0bc08a19eea74253299e75dc5556e6'],\n",
       " '2': ['33b675636da5dcc86ec847b38c08fa49ff1cace9749931e0a5d4dfdbdedd808a',\n",
       "  '13656c83d841ea7de6ebf3a89e0038fea9526bd7f686f06f7a692343a8a32dca',\n",
       "  '43587f59c00a8e528bc7636fabaffcf70cc25afc5b4d53df797faf0dc72f6dd0',\n",
       "  'ada17dcc2d615cc0d982a538b618f45441e798c38b1df9f3dd273e386eba1363',\n",
       "  '76d4c0b6f7f7cc7122ea4e442c4d2a4af4578855a1dfd3803db52a38b48be8f9',\n",
       "  '6bce5a3c8b73421b8575f01a0d2c0edb8e2c60eaca11c0452e10597d19bf32a2',\n",
       "  '65490299ee72d212e57f8b1e48ad29236608927f12c194f5c081717a3342f746',\n",
       "  'c02b14a7b70952fed80df5f0a99d0a4eaf9705d50b4afeed0a6f4320e4518cba',\n",
       "  'bd17e970c22b76bf6feaa8eb1f3084ae8ae2bd8aa30b98f959da2523af53bbb6',\n",
       "  '3729f6c6c6204a777edbe59fa7c179282e8738bc3aef5be03dd1962770b56b20',\n",
       "  '7bf0605bb454cad1855e0b8acbf8ed2f57350c66ac063f7805ca34c833d8a078',\n",
       "  '25fd7f3280a2383cf2b21da045ad58fcfcc254cb0c92076a150b8e5477f106b4',\n",
       "  'aaa0c4d5f6620dffc8e38140043ea1f23e6fb0787c6b58875507f6d4a64b9409',\n",
       "  'c7ec4bb05667110ccd64be7636b7a7375213dbe809a384d243822b723a38e1eb',\n",
       "  '3d9dc41812416c5ca340ab32cabcdcd27159cf2fb1367bc1798a7d81dc8c4f5b',\n",
       "  'b75ca4a350a306aa2c6990b4fd6c9406d7f3cb56db21416bfa0c3ce2ee5206d6'],\n",
       " '3': ['85df8945419d2b5038f7ac83ec1ec6b8267c40fdb3b1e56ff62f6676eb855e70',\n",
       "  'e0e2d0cec0ef7e8fc458e516dfde82890c183431a3f9efae9e4693fc23dfa36a',\n",
       "  'e49626d1791cd8cd84c8f7ca1e8462af8b0b810fa79d0bee41ebc49f467551ce',\n",
       "  'ce7b05f3b5c6f156ba8d9a1877198933adc634b67f79edd633b36159433ac4e0',\n",
       "  '71b5efde30796baddf6e25b468421cc04729f4d6176c719a82f7de339350f835',\n",
       "  'd5cf5be7ca8daf70cc4373b19e7dc45cd412c29345743e3290f1933e69dea7ef',\n",
       "  '5e0dfd39478cedef606ed280a0db9ea71889428a5e5ee62037087d994af9a77e',\n",
       "  'fbe4a4b51c90a512fde93264276999304feaa96ce4d39362ea19a74ea84f7401'],\n",
       " '4': ['c27450cd3fd4df029145f3437ae9c381e0ae55e8400de06cb973005b36d7b222',\n",
       "  '9e3af174138413346476a400f51eac6b28c4e290f072067106618e6d3f71ee57',\n",
       "  '6e2200af97a7fb9ace5be5559190c4b41f472e65683164595df940972543fff0',\n",
       "  'c0bf5dde181762b73a3baf428b20e8e6a8c616ebe1c02ab0710121f1a5476512'],\n",
       " '5': ['eab81849dcbf805e2189b03db985abd32cbf67c74aaee65010e53e790fab8147',\n",
       "  '093d6c584f1feee1d7138d618e734221e41d61090c8168b81fa77c9fd3a0e780'],\n",
       " '6': ['c6edddc5943c0a29622ecf74a8add674a94e330931c38cb0aae7913ebc3c1f55']}"
      ]
     },
     "execution_count": 165,
     "metadata": {},
     "output_type": "execute_result"
    }
   ],
   "source": [
    "d"
   ]
  },
  {
   "cell_type": "code",
   "execution_count": 166,
   "metadata": {
    "collapsed": false
   },
   "outputs": [],
   "source": [
    "def Return_Elt(d,e):\n",
    "    list_ = [] \n",
    "    A=d[str(int((log(len(d[str(0)]))/log(2))+1))]\n",
    "    if e not in d[str(0)]:\n",
    "        print(\"{} n appartient pas a la liste\".format(e))\n",
    "    else:\n",
    "        index = d[str(0)].index(e)\n",
    "        if index%2==0:\n",
    "            list_.append(d[str(1)][index])\n",
    "            list_.append(d[str(1)][index+1])\n",
    "            s = d[str(1)][index]\n",
    "            t = d[str(1)][index+1]\n",
    "        else:\n",
    "            list_.append(d[str(1)][index-1])\n",
    "            list_.append(d[str(1)][index])\n",
    "            s = d[str(1)][index-1]\n",
    "            t = d[str(1)][index]\n",
    "        for i in range(2,int((log(len(d[str(0)]))/log(2)))+1):\n",
    "            hach = Add_and_hash(s,t)\n",
    "            index = d[str(i)].index(hach)\n",
    "            if index%2==0:  \n",
    "                list_.append(d[str(i)][index+1])\n",
    "                s = d[str(i)][index]\n",
    "                t = d[str(i)][index+1]\n",
    "            else:\n",
    "                list_.append(d[str(i)][index-1])\n",
    "                s = d[str(i)][index-1]\n",
    "                t = d[str(i)][index]      \n",
    "    return list_,A[0]        "
   ]
  },
  {
   "cell_type": "code",
   "execution_count": 168,
   "metadata": {
    "collapsed": false
   },
   "outputs": [
    {
     "data": {
      "text/plain": [
       "['ef2d127de37b942baad06145e54b0c619a1f22327b2ebbcfbec78f5564afe39d',\n",
       " 'e7f6c011776e8db7cd330b54174fd76f7d0216b612387a5ffcfb81e6f0919683',\n",
       " 'ada17dcc2d615cc0d982a538b618f45441e798c38b1df9f3dd273e386eba1363',\n",
       " '85df8945419d2b5038f7ac83ec1ec6b8267c40fdb3b1e56ff62f6676eb855e70',\n",
       " '9e3af174138413346476a400f51eac6b28c4e290f072067106618e6d3f71ee57',\n",
       " '093d6c584f1feee1d7138d618e734221e41d61090c8168b81fa77c9fd3a0e780']"
      ]
     },
     "execution_count": 168,
     "metadata": {},
     "output_type": "execute_result"
    }
   ],
   "source": [
    "La,A=Return_Elt(d,5)\n",
    "#e=La[0]\n",
    "La"
   ]
  },
  {
   "cell_type": "code",
   "execution_count": 153,
   "metadata": {
    "collapsed": false
   },
   "outputs": [
    {
     "data": {
      "text/plain": [
       "{'0': [1, 2, 3, 4],\n",
       " '1': ['6b86b273ff34fce19d6b804eff5a3f5747ada4eaa22f1d49c01e52ddb7875b4b',\n",
       "  'd4735e3a265e16eee03f59718b9b5d03019c07d8b6c51f90da3a666eec13ab35',\n",
       "  '4e07408562bedb8b60ce05c1decfe3ad16b72230967de01f640b7e4729b49fce',\n",
       "  '4b227777d4dd1fc61c6f884f48641d02b4d121d3fd328cb08b5531fcacdabf8a'],\n",
       " '2': ['33b675636da5dcc86ec847b38c08fa49ff1cace9749931e0a5d4dfdbdedd808a',\n",
       "  '13656c83d841ea7de6ebf3a89e0038fea9526bd7f686f06f7a692343a8a32dca'],\n",
       " '3': ['85df8945419d2b5038f7ac83ec1ec6b8267c40fdb3b1e56ff62f6676eb855e70']}"
      ]
     },
     "execution_count": 153,
     "metadata": {},
     "output_type": "execute_result"
    }
   ],
   "source": [
    "d"
   ]
  },
  {
   "cell_type": "code",
   "execution_count": 154,
   "metadata": {
    "collapsed": false
   },
   "outputs": [
    {
     "name": "stdout",
     "output_type": "stream",
     "text": [
      "4689c4f774879908118d060f0591bbaa399653c039c2fa6abc7e93dabf399c90\n"
     ]
    },
    {
     "data": {
      "text/plain": [
       "False"
      ]
     },
     "execution_count": 154,
     "metadata": {},
     "output_type": "execute_result"
    }
   ],
   "source": [
    "def Check_Membership(L,e,A):\n",
    "    Lis_stock=[]\n",
    "    if e not in L:\n",
    "        print('L element {} n appartient pas a cette liste'.format(e))\n",
    "    else:\n",
    "        h=Add_and_hash(L[0],L[1])\n",
    "        Lis_stock.append(h)\n",
    "        for i in range(2,len(L)):\n",
    "            h_=Add_and_hash(Lis_stock[0],L[i])\n",
    "            Lis_stock[0]=h_\n",
    "        if Lis_stock[0]==A:\n",
    "            return  True\n",
    "        print(Lis_stock[0])\n",
    "        return False\n",
    "        \n",
    "Check_Membership(La,e,A) "
   ]
  },
  {
   "cell_type": "code",
   "execution_count": 170,
   "metadata": {
    "collapsed": false
   },
   "outputs": [
    {
     "data": {
      "text/plain": [
       "False"
      ]
     },
     "execution_count": 170,
     "metadata": {},
     "output_type": "execute_result"
    }
   ],
   "source": [
    "def Check_Membership(L,e,A):\n",
    "    a = L[0]\n",
    "    for i in range(1,len(L)):\n",
    "        b = L[i]\n",
    "        a = Add_and_hash(a,b)\n",
    "    if a == A:\n",
    "        return  True\n",
    "    else:\n",
    "        return  False\n",
    "Check_Membership(La,e,A)"
   ]
  },
  {
   "cell_type": "code",
   "execution_count": 140,
   "metadata": {
    "collapsed": false
   },
   "outputs": [
    {
     "data": {
      "text/plain": [
       "'0ffd8317197bd10d53237c8af59fe6dda3fda5d5481033db163334232c890867'"
      ]
     },
     "execution_count": 140,
     "metadata": {},
     "output_type": "execute_result"
    }
   ],
   "source": [
    "A"
   ]
  },
  {
   "cell_type": "code",
   "execution_count": 134,
   "metadata": {
    "collapsed": false
   },
   "outputs": [
    {
     "ename": "NameError",
     "evalue": "name 'Lis_stock' is not defined",
     "output_type": "error",
     "traceback": [
      "\u001b[0;31m---------------------------------------------------------------------------\u001b[0m",
      "\u001b[0;31mNameError\u001b[0m                                 Traceback (most recent call last)",
      "\u001b[0;32m<ipython-input-134-4f0da3c7ee97>\u001b[0m in \u001b[0;36m<module>\u001b[0;34m()\u001b[0m\n\u001b[0;32m----> 1\u001b[0;31m \u001b[0mLis_stock\u001b[0m\u001b[0;34m[\u001b[0m\u001b[0;36m0\u001b[0m\u001b[0;34m]\u001b[0m\u001b[0;34m\u001b[0m\u001b[0m\n\u001b[0m",
      "\u001b[0;31mNameError\u001b[0m: name 'Lis_stock' is not defined"
     ]
    }
   ],
   "source": [
    "Lis_stock[0]"
   ]
  },
  {
   "cell_type": "code",
   "execution_count": null,
   "metadata": {
    "collapsed": true
   },
   "outputs": [],
   "source": []
  }
 ],
 "metadata": {
  "kernelspec": {
   "display_name": "Python 2",
   "language": "python",
   "name": "python2"
  },
  "language_info": {
   "codemirror_mode": {
    "name": "ipython",
    "version": 2
   },
   "file_extension": ".py",
   "mimetype": "text/x-python",
   "name": "python",
   "nbconvert_exporter": "python",
   "pygments_lexer": "ipython2",
   "version": "2.7.13"
  }
 },
 "nbformat": 4,
 "nbformat_minor": 2
}
