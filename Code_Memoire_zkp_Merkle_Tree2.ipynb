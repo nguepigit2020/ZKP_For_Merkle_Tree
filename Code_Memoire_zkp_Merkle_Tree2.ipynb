{
 "cells": [
  {
   "cell_type": "markdown",
   "metadata": {},
   "source": [
    "<h1 align=center> Implementation of ZKP for Merkle tree Using Python</h1>"
   ]
  },
  {
   "cell_type": "markdown",
   "metadata": {},
   "source": [
    "."
   ]
  },
  {
   "cell_type": "code",
   "execution_count": 161,
   "metadata": {
    "collapsed": true
   },
   "outputs": [],
   "source": [
    "from hashlib import*\n",
    "from math import*\n",
    "from csv import *\n",
    "from hashlib import * \n",
    "import os\n",
    "import random"
   ]
  },
  {
   "cell_type": "code",
   "execution_count": 162,
   "metadata": {
    "collapsed": true
   },
   "outputs": [],
   "source": [
    "L=[1,2,3,4,5,6,7,8,9,10,11,12,13,14,15,16,17,18,19,20,\"Nguepi\",\"Nguefack\",\"Tondji\"]\n",
    "L1=[1,2,3,4]\n"
   ]
  },
  {
   "cell_type": "code",
   "execution_count": 163,
   "metadata": {
    "collapsed": true
   },
   "outputs": [],
   "source": [
    "# This code allow us to integer hash  \n",
    "def hashThis_int(M):\n",
    "    r=0\n",
    "    hash=sha256();\n",
    "    hash.update(str(r).encode());\n",
    "    hash.update(M.encode());\n",
    "    return int(hash.hexdigest(),16);"
   ]
  },
  {
   "cell_type": "code",
   "execution_count": 164,
   "metadata": {
    "collapsed": false
   },
   "outputs": [
    {
     "data": {
      "text/plain": [
       "98308941888556364773191993917330179511595787205275262433735289253208501263596L"
      ]
     },
     "execution_count": 164,
     "metadata": {},
     "output_type": "execute_result"
    }
   ],
   "source": [
    "hashThis_int(\"Nguefack\")"
   ]
  },
  {
   "cell_type": "code",
   "execution_count": 165,
   "metadata": {
    "collapsed": true
   },
   "outputs": [],
   "source": [
    "## Check if the number is the power of two or not.\n",
    "def Check_power_two(x):\n",
    "    n=log(x)/log(2)\n",
    "    if n.is_integer():\n",
    "        return True\n",
    "    return False"
   ]
  },
  {
   "cell_type": "code",
   "execution_count": 166,
   "metadata": {
    "collapsed": true
   },
   "outputs": [],
   "source": [
    "#This function transform the content of csv file into a list.\n",
    "def Transform_csv_file_on_list(filePath):\n",
    "    filePath = '/home/nguepi/Bureau/Test.csv'\n",
    "    \n",
    "    fileOpen = open(filePath, 'rU')\n",
    "    # opening the file for reading in Universal NewLine (rU) \n",
    "\n",
    "    fileReader = reader(fileOpen)\n",
    "    # initializing the CSV Reader for traversing data inside the csv file\n",
    "\n",
    "    data_list = []\n",
    "    for row in fileReader :\n",
    "\n",
    "        for tnx in row :\n",
    "\n",
    "            currentItem = str(tnx)\n",
    "            data_list.append(currentItem)\n",
    "    return data_list"
   ]
  },
  {
   "cell_type": "code",
   "execution_count": 167,
   "metadata": {
    "collapsed": false
   },
   "outputs": [
    {
     "data": {
      "text/plain": [
       "['nguepi',\n",
       " 'nguepi',\n",
       " 'nguepi',\n",
       " 'nguepi',\n",
       " 'nguepi',\n",
       " 'nguepi',\n",
       " 'nguepi',\n",
       " 'nguepi',\n",
       " 'nguepi',\n",
       " 'nguepi',\n",
       " 'nguepi',\n",
       " 'idriss',\n",
       " 'idriss',\n",
       " 'idriss',\n",
       " 'idriss',\n",
       " 'idriss',\n",
       " 'idriss',\n",
       " 'idriss',\n",
       " 'idriss',\n",
       " 'idriss',\n",
       " 'idriss',\n",
       " 'idriss',\n",
       " 'idriss',\n",
       " 'nguefack',\n",
       " 'nguefack',\n",
       " 'nguefack',\n",
       " 'nguefack',\n",
       " 'nguefack',\n",
       " 'nguefack',\n",
       " 'nguefack',\n",
       " 'nguefack',\n",
       " 'nguefack']"
      ]
     },
     "execution_count": 167,
     "metadata": {},
     "output_type": "execute_result"
    }
   ],
   "source": [
    "filePath = '/home/nguepi/Bureau/Test.csv'\n",
    "Transform_csv_file_on_list(filePath)"
   ]
  },
  {
   "cell_type": "code",
   "execution_count": 168,
   "metadata": {
    "collapsed": true
   },
   "outputs": [],
   "source": [
    "## This function allow us to solve padding probleme.\n",
    "def Check_data_len(L):\n",
    "    while Check_power_two(len(L))==False:\n",
    "        L.append(random.randrange(0, 10000, 1))\n",
    "    return L       "
   ]
  },
  {
   "cell_type": "code",
   "execution_count": 169,
   "metadata": {
    "collapsed": true
   },
   "outputs": [],
   "source": [
    "## This function allow us to hash all the elements of the list L \n",
    "def Return_Hashlist(L):\n",
    "    List_result=[]\n",
    "    for i in range(len(L)):\n",
    "        List_result.append(sha256(str(L[i])).hexdigest())\n",
    "    return List_result  "
   ]
  },
  {
   "cell_type": "code",
   "execution_count": 170,
   "metadata": {
    "collapsed": true
   },
   "outputs": [],
   "source": [
    "## This function allow us to add an element L in the dictionnary Dict at the position i\n",
    "def Add_list(L,Dict,i):\n",
    "    Dict[str(i)]=L\n",
    "    return Dict"
   ]
  },
  {
   "cell_type": "code",
   "execution_count": 171,
   "metadata": {
    "collapsed": false
   },
   "outputs": [],
   "source": [
    "#Give the hash of the concatenation of H1 and H2.\n",
    "def Add_and_hash(H1,H2):\n",
    "    return sha256(str(hashThis_int(H1)+hashThis_int(H2))).hexdigest()"
   ]
  },
  {
   "cell_type": "code",
   "execution_count": 172,
   "metadata": {
    "collapsed": true
   },
   "outputs": [],
   "source": [
    "# This code allow us to build the Merkle tree\n",
    "def Merkle_tree(L):\n",
    "    j=2\n",
    "    Dict={}\n",
    "    Check_data_len(L)\n",
    "    Dict[str(0)]=L\n",
    "    L1=Return_Hashlist(L)\n",
    "    Add_list(L1,Dict,1)\n",
    "    while j<=int(log(len(L))/log(2)+1):\n",
    "        Lis=[]\n",
    "        for i in range(((len(L1)-1)//2)+1):\n",
    "            Lis.append(Add_and_hash(L1[2*i],L1[2*i+1]))\n",
    "        Add_list(Lis,Dict,j) \n",
    "        L1=Lis\n",
    "        j+=1  \n",
    "    return Dict"
   ]
  },
  {
   "cell_type": "code",
   "execution_count": 173,
   "metadata": {
    "collapsed": false
   },
   "outputs": [],
   "source": [
    "d=Merkle_tree(L)"
   ]
  },
  {
   "cell_type": "code",
   "execution_count": 174,
   "metadata": {
    "collapsed": false
   },
   "outputs": [
    {
     "data": {
      "text/plain": [
       "{'0': [1,\n",
       "  2,\n",
       "  3,\n",
       "  4,\n",
       "  5,\n",
       "  6,\n",
       "  7,\n",
       "  8,\n",
       "  9,\n",
       "  10,\n",
       "  11,\n",
       "  12,\n",
       "  13,\n",
       "  14,\n",
       "  15,\n",
       "  16,\n",
       "  17,\n",
       "  18,\n",
       "  19,\n",
       "  20,\n",
       "  'Nguepi',\n",
       "  'Nguefack',\n",
       "  'Tondji',\n",
       "  3560,\n",
       "  1584,\n",
       "  5578,\n",
       "  1067,\n",
       "  7030,\n",
       "  883,\n",
       "  4829,\n",
       "  9215,\n",
       "  5806],\n",
       " '1': ['6b86b273ff34fce19d6b804eff5a3f5747ada4eaa22f1d49c01e52ddb7875b4b',\n",
       "  'd4735e3a265e16eee03f59718b9b5d03019c07d8b6c51f90da3a666eec13ab35',\n",
       "  '4e07408562bedb8b60ce05c1decfe3ad16b72230967de01f640b7e4729b49fce',\n",
       "  '4b227777d4dd1fc61c6f884f48641d02b4d121d3fd328cb08b5531fcacdabf8a',\n",
       "  'ef2d127de37b942baad06145e54b0c619a1f22327b2ebbcfbec78f5564afe39d',\n",
       "  'e7f6c011776e8db7cd330b54174fd76f7d0216b612387a5ffcfb81e6f0919683',\n",
       "  '7902699be42c8a8e46fbbb4501726517e86b22c56a189f7625a6da49081b2451',\n",
       "  '2c624232cdd221771294dfbb310aca000a0df6ac8b66b696d90ef06fdefb64a3',\n",
       "  '19581e27de7ced00ff1ce50b2047e7a567c76b1cbaebabe5ef03f7c3017bb5b7',\n",
       "  '4a44dc15364204a80fe80e9039455cc1608281820fe2b24f1e5233ade6af1dd5',\n",
       "  '4fc82b26aecb47d2868c4efbe3581732a3e7cbcc6c2efb32062c08170a05eeb8',\n",
       "  '6b51d431df5d7f141cbececcf79edf3dd861c3b4069f0b11661a3eefacbba918',\n",
       "  '3fdba35f04dc8c462986c992bcf875546257113072a909c162f7e470e581e278',\n",
       "  '8527a891e224136950ff32ca212b45bc93f69fbb801c3b1ebedac52775f99e61',\n",
       "  'e629fa6598d732768f7c726b4b621285f9c3b85303900aa912017db7617d8bdb',\n",
       "  'b17ef6d19c7a5b1ee83b907c595526dcb1eb06db8227d650d5dda0a9f4ce8cd9',\n",
       "  '4523540f1504cd17100c4835e85b7eefd49911580f8efff0599a8f283be6b9e3',\n",
       "  '4ec9599fc203d176a301536c2e091a19bc852759b255bd6818810a42c5fed14a',\n",
       "  '9400f1b21cb527d7fa3d3eabba93557a18ebe7a2ca4e471cfe5e4c5b4ca7f767',\n",
       "  'f5ca38f748a1d6eaf726b8a42fb575c3c71f1864a8143301782de13da2d9202b',\n",
       "  'e21ec6bfc717c9a812c2f7b1421ff0ee0cc03d57ff3df554abe30b09741f8d19',\n",
       "  '54868ac01036097129524afef9375822015ec03a0d934734e6f42966c0f9aa6a',\n",
       "  '8811fcef8213248d6df935505f3a68b4ffacc04436354703e30fc25b3040b3dc',\n",
       "  '21bc59f909dc499bbc66fd6cd4ef1e015ecdb280b6e56ff5228c4f04f7e11340',\n",
       "  '9ea3f4147c0d763c96e161f83b7aac40c78468f26a382a16eb5b75af0d7ae4f0',\n",
       "  '18d84c13d3ca78eaff19434a129a9bef69fadfc33b42379a0b4fe74f7c20faae',\n",
       "  'f48280c0107726b99afcbd3cd0a46a2bac5f1ddb44e8768f232ac4da562eb166',\n",
       "  'f5de9f3a9d0796ce2da39fa5556008d33f18c4769381388a4612e8a371d8f9b0',\n",
       "  '3055e0d8130c7a197bc6e020afe9bea1edef31f33b720cc326dd404d8e3f82d5',\n",
       "  '1ec08285a725fe5e0141cc5cc8d493b342a3d12c75ae73b3acd393bc3b7d5d3a',\n",
       "  '0e3803a9c7361edd5a4ef83c013db8b952cab73373150ff24d3d73d92c40bad2',\n",
       "  'addcb3d9599cca858acab111858cfc4df9cd6cdf515a5cfdeba5c12e15ba11b3'],\n",
       " '2': ['c689ef2d1ae9415ba75a468f031b0b5dbd1907c54afc1284e721ba9eb88cd053',\n",
       "  '58d6bf2106bbfe0ef3e589024ef0db8a419ef13a839e272e50283c5b44894ecc',\n",
       "  '4866a90594d0bf41bf162074671fbefe7840308a1e8b44571b858faf53161554',\n",
       "  'a69e223e110f10dac552b6730debea2f814df450bdc7533467caf78f10df2a0c',\n",
       "  '5c4ce7f346bff28d1ddddd1acaaac0a68c9271736c4c16ab1ff457a8a28bf90d',\n",
       "  'e3c498dffd45ef91a570c90efbbaaece19460e3e33053ba28c1e6631b5bf70c1',\n",
       "  'b60b5791504acf1bb624635069f906e3a85230fa049dcade451328ab171c279f',\n",
       "  '0a9ec82eb0c1c458bd34f2a72853f7a6326726d2c409856878904669b8c3b881',\n",
       "  'a34b2f2ed11ab8a89ae1a286e9f869b608de5c7f3fa9e2055978629798a833ae',\n",
       "  'd4874a315425ded7346a2ac52a62da2730c68a1bdb1a975bb36546390126c7fa',\n",
       "  'd9fbc54656c07aada68bd12ea287683ae096f8dda0a4e96e60ebb75513a4109e',\n",
       "  '4a0df8835bafc3c9a0f9b90ddc86cdc69a6fdb751e7077460e8dc4574830bce6',\n",
       "  '859bf67368497d4a3a1dffa3c18819aea92ba078ea32282333942eac8bf499aa',\n",
       "  '17c5f06162eab2098f216278d63a3910d6578b049cfc6c65e98813f4a38fc2db',\n",
       "  '6f654c60c025a040009d5d7e356351837e988f5ebc222247485218f9749a7339',\n",
       "  '4746a7f42a6a62481bb6030389b58bc3957b9c52671f186900d9700d4e1c7d86'],\n",
       " '3': ['0a6d319ba3f32265b55b2286ab08e62788508ed3ee50136fdab3a84098eb0c67',\n",
       "  'fc045d72cb6e2333159f084c1dd677d75f058df4570d09ec80e90b945fc74d27',\n",
       "  'f536192675783d67b6127b9bfcaa48248bf8c462ec09d8424aaa552b6ff4a80d',\n",
       "  '69d937ccbf7a438ad182fa3a32a41cf3c39fe5b5a260b675385b7d98db7d990a',\n",
       "  '0894fe68eea6b621bdbd4f505caeeeb45a290b27c1b687f69cd1e236193c3902',\n",
       "  'c058706489d8d8f3d198b8891a3ad2fbe1c6253ab729bb8e7fbed2bda23b4b2d',\n",
       "  '70c9115e2ad44b60cad1d2bc34be19c7dc10cb93195c9b7182323e63a03eb7ea',\n",
       "  '5fdb62cdaddfdc3ecaf98cb2ad37ebf35839de87f46286799e56668fe85ffae7'],\n",
       " '4': ['a3f49b0543fca4792957ce7a36a63b46c92a4aa5990dd9e543c9a24209bc574a',\n",
       "  '7ffe87e849a349d244fe832b218e4d7f13368cac44eef06937e318c6651c4880',\n",
       "  '6af126c13d897ee0c13041c4564205dded8a2fd6008a2c535ac9225602ba97b9',\n",
       "  'f0fa16254a5032a8ec402944030ab3923a729caa07989599fb69a6ca8e81a390'],\n",
       " '5': ['4de21ca37dbe102931deeecae9ef0f959893e061d20628e259dd61314ca874c2',\n",
       "  'be0b1d21aa3293ef85e01c7f896c655b079c70e282bb0adcac52dfa88d2c6e32'],\n",
       " '6': ['b1fe24dc46441ed45e0a39c1765c305648bba732beb207e4a15e8b51e87b54fb']}"
      ]
     },
     "execution_count": 174,
     "metadata": {},
     "output_type": "execute_result"
    }
   ],
   "source": [
    "d"
   ]
  },
  {
   "cell_type": "code",
   "execution_count": 175,
   "metadata": {
    "collapsed": false
   },
   "outputs": [],
   "source": [
    "def Return_Elt(d,e):\n",
    "    list_ = [] \n",
    "    A=d[str(int((log(len(d[str(0)]))/log(2))+1))]\n",
    "    if e not in d[str(0)]:\n",
    "        print(\"{} n appartient pas a la liste\".format(e))\n",
    "    else:\n",
    "        index = d[str(0)].index(e)\n",
    "        if index%2==0:\n",
    "            list_.append(d[str(1)][index])\n",
    "            list_.append(d[str(1)][index+1])\n",
    "            s = d[str(1)][index]\n",
    "            t = d[str(1)][index+1]\n",
    "        else:\n",
    "            list_.append(d[str(1)][index-1])\n",
    "            list_.append(d[str(1)][index])\n",
    "            s = d[str(1)][index-1]\n",
    "            t = d[str(1)][index]\n",
    "        for i in range(2,int((log(len(d[str(0)]))/log(2)))+1):\n",
    "            hach = Add_and_hash(s,t)\n",
    "            index = d[str(i)].index(hach)\n",
    "            if index%2==0:  \n",
    "                list_.append(d[str(i)][index+1])\n",
    "                s = d[str(i)][index]\n",
    "                t = d[str(i)][index+1]\n",
    "            else:\n",
    "                list_.append(d[str(i)][index-1])\n",
    "                s = d[str(i)][index-1]\n",
    "                t = d[str(i)][index]      \n",
    "    return list_,A[0]        "
   ]
  },
  {
   "cell_type": "code",
   "execution_count": 190,
   "metadata": {
    "collapsed": false
   },
   "outputs": [
    {
     "data": {
      "text/plain": [
       "['8811fcef8213248d6df935505f3a68b4ffacc04436354703e30fc25b3040b3dc',\n",
       " '21bc59f909dc499bbc66fd6cd4ef1e015ecdb280b6e56ff5228c4f04f7e11340',\n",
       " 'd9fbc54656c07aada68bd12ea287683ae096f8dda0a4e96e60ebb75513a4109e',\n",
       " '0894fe68eea6b621bdbd4f505caeeeb45a290b27c1b687f69cd1e236193c3902',\n",
       " 'f0fa16254a5032a8ec402944030ab3923a729caa07989599fb69a6ca8e81a390',\n",
       " '4de21ca37dbe102931deeecae9ef0f959893e061d20628e259dd61314ca874c2']"
      ]
     },
     "execution_count": 190,
     "metadata": {},
     "output_type": "execute_result"
    }
   ],
   "source": [
    "La,A=Return_Elt(d,'Tondji')\n",
    "e=La[0]\n",
    "La"
   ]
  },
  {
   "cell_type": "code",
   "execution_count": 199,
   "metadata": {
    "collapsed": false
   },
   "outputs": [
    {
     "data": {
      "text/plain": [
       "True"
      ]
     },
     "execution_count": 199,
     "metadata": {},
     "output_type": "execute_result"
    }
   ],
   "source": [
    "\n",
    "def Check_Membership2(L,e,A):\n",
    "    if e not in L:\n",
    "        print('{} n appartient pas a l arbre'.format(e))\n",
    "    else:    \n",
    "        a = L[0]\n",
    "        for i in range(1,len(L)):\n",
    "            b = L[i]\n",
    "            a = Add_and_hash(a,b)\n",
    "        if a == A:\n",
    "            return  True\n",
    "        else:\n",
    "            return  False\n",
    "Check_Membership(La,e,A)"
   ]
  },
  {
   "cell_type": "code",
   "execution_count": 200,
   "metadata": {
    "collapsed": false
   },
   "outputs": [
    {
     "data": {
      "text/plain": [
       "True"
      ]
     },
     "execution_count": 200,
     "metadata": {},
     "output_type": "execute_result"
    }
   ],
   "source": [
    "def Check_Membership(L,e,A):\n",
    "    a = L[0]\n",
    "    for i in range(1,len(L)):\n",
    "        b = L[i]\n",
    "        a = Add_and_hash(a,b)\n",
    "    if a == A:\n",
    "        return  True\n",
    "    else:\n",
    "        return  False\n",
    "Check_Membership(La,e,A)"
   ]
  },
  {
   "cell_type": "code",
   "execution_count": 251,
   "metadata": {
    "collapsed": false
   },
   "outputs": [],
   "source": [
    "#This code check the type of x and convert it into interger\n",
    "def Convert_to_interger(x,q,d):\n",
    "    if type(x)==str and x in d[str(0)]:\n",
    "        x=hashThis_int(x)%q\n",
    "    elif type(x)!=str and x in d[str(0)] :\n",
    "        x=x\n",
    "    else:\n",
    "        print('{} n appartient pas a l arbre'.format(x))\n",
    "    #break\n",
    "    return x    "
   ]
  },
  {
   "cell_type": "code",
   "execution_count": 252,
   "metadata": {
    "collapsed": false
   },
   "outputs": [
    {
     "name": "stdout",
     "output_type": "stream",
     "text": [
      "54 n appartient pas a l arbre\n"
     ]
    },
    {
     "data": {
      "text/plain": [
       "54"
      ]
     },
     "execution_count": 252,
     "metadata": {},
     "output_type": "execute_result"
    }
   ],
   "source": [
    "Convert_to_interger(54,5,d)"
   ]
  },
  {
   "cell_type": "code",
   "execution_count": 253,
   "metadata": {
    "collapsed": false
   },
   "outputs": [
    {
     "data": {
      "text/plain": [
       "'arbre'"
      ]
     },
     "execution_count": 253,
     "metadata": {},
     "output_type": "execute_result"
    }
   ],
   "source": [
    "funct('arbre',5,d)"
   ]
  },
  {
   "cell_type": "code",
   "execution_count": 254,
   "metadata": {
    "collapsed": true
   },
   "outputs": [],
   "source": [
    "## Check if the number is prime or not\n",
    "def Is_prime(p):\n",
    "    result=[]\n",
    "    j=0\n",
    "    for i in range(1,p+1):\n",
    "        if p%i==0:\n",
    "            j+=1\n",
    "    if j==2:\n",
    "        return True\n",
    "    return False "
   ]
  },
  {
   "cell_type": "code",
   "execution_count": 255,
   "metadata": {
    "collapsed": true
   },
   "outputs": [],
   "source": [
    "def verifier_challenge(p):\n",
    "    if Is_prime(p):\n",
    "        return random.randint(1,p-1)\n",
    "    print(\"Veillez etrer un nombre premier!!!!\")"
   ]
  },
  {
   "cell_type": "code",
   "execution_count": 256,
   "metadata": {
    "collapsed": true
   },
   "outputs": [],
   "source": [
    "p=5\n",
    "h=2\n",
    "g=3\n",
    "q=3\n",
    "#x=12\n",
    "r=3"
   ]
  },
  {
   "cell_type": "code",
   "execution_count": 257,
   "metadata": {
    "collapsed": false
   },
   "outputs": [],
   "source": [
    "# This is the prover algorithm\n",
    "def prover(q,g,h,x,r,d):\n",
    "    if not Is_prime(q):\n",
    "        print('{} n est pas premier!!!!'.format(q))\n",
    "    else: \n",
    "        x=Convert_to_interger(x,q,d)\n",
    "        C=pow(g,x)*pow(h,r)\n",
    "        k=random.randint(1,q-1)\n",
    "        t=random.randint(1,q-1)    \n",
    "        #c=random.randint(1,q-1)\n",
    "        c=verifier_challenge(p)    ## this is the challenge\n",
    "        R=int(pow(g,k)*pow(h,t))\n",
    "        print(k,t,c)\n",
    "        z=k-c*x\n",
    "        y=t-c*r\n",
    "        pi,A=Return_Elt(d,x) ## d represent the Merkle tree\n",
    "        elt=sha256(str(x)).hexdigest()\n",
    "    return C,c,z,y,R,pi,A,elt"
   ]
  },
  {
   "cell_type": "code",
   "execution_count": 258,
   "metadata": {
    "collapsed": false
   },
   "outputs": [
    {
     "name": "stdout",
     "output_type": "stream",
     "text": [
      "(2, 2, 4)\n"
     ]
    },
    {
     "data": {
      "text/plain": [
       "(72.0,\n",
       " 4,\n",
       " -6L,\n",
       " -10,\n",
       " 36,\n",
       " ['6b86b273ff34fce19d6b804eff5a3f5747ada4eaa22f1d49c01e52ddb7875b4b',\n",
       "  'd4735e3a265e16eee03f59718b9b5d03019c07d8b6c51f90da3a666eec13ab35',\n",
       "  '58d6bf2106bbfe0ef3e589024ef0db8a419ef13a839e272e50283c5b44894ecc',\n",
       "  'fc045d72cb6e2333159f084c1dd677d75f058df4570d09ec80e90b945fc74d27',\n",
       "  '7ffe87e849a349d244fe832b218e4d7f13368cac44eef06937e318c6651c4880',\n",
       "  'be0b1d21aa3293ef85e01c7f896c655b079c70e282bb0adcac52dfa88d2c6e32'],\n",
       " 'b1fe24dc46441ed45e0a39c1765c305648bba732beb207e4a15e8b51e87b54fb',\n",
       " 'd4735e3a265e16eee03f59718b9b5d03019c07d8b6c51f90da3a666eec13ab35')"
      ]
     },
     "execution_count": 258,
     "metadata": {},
     "output_type": "execute_result"
    }
   ],
   "source": [
    "C,c,z,y,R,pi,A,elt=prover(3,3,2,'Tondji',3,d)\n",
    "C,c,z,y,R,pi,A,elt"
   ]
  },
  {
   "cell_type": "code",
   "execution_count": 259,
   "metadata": {
    "collapsed": false
   },
   "outputs": [],
   "source": [
    "# this is the verifier Algorithm\n",
    "def verifier(C,c,z,y,R,pi,A,elt,g,h):\n",
    "    r=int(pow(C,c)*pow(g,z)*pow(h,y))\n",
    "    bol=Check_Membership(pi,elt,A)\n",
    "    print(r,R)\n",
    "    if (R==r and bol==True):\n",
    "        \n",
    "        return True\n",
    "    return False"
   ]
  },
  {
   "cell_type": "code",
   "execution_count": 260,
   "metadata": {
    "collapsed": false
   },
   "outputs": [
    {
     "name": "stdout",
     "output_type": "stream",
     "text": [
      "(36, 36)\n"
     ]
    },
    {
     "data": {
      "text/plain": [
       "True"
      ]
     },
     "execution_count": 260,
     "metadata": {},
     "output_type": "execute_result"
    }
   ],
   "source": [
    "verifier(C,c,z,y,R,pi,A,elt,g,h)"
   ]
  },
  {
   "cell_type": "code",
   "execution_count": 261,
   "metadata": {
    "collapsed": false
   },
   "outputs": [
    {
     "name": "stdout",
     "output_type": "stream",
     "text": [
      "(27, 1, 4)\n",
      "(15251194969974, 15251194969974)\n",
      "L element 9400f1b21cb527d7fa3d3eabba93557a18ebe7a2ca4e471cfe5e4c5b4ca7f767 appartient a Data\n"
     ]
    }
   ],
   "source": [
    "def __main__():\n",
    "    \n",
    "    p=51\n",
    "    h=2\n",
    "    g=3\n",
    "    q=31\n",
    "    x='Nguepi'\n",
    "    r=3\n",
    "    Data= d\n",
    "    C,c,z,y,R,pi,A,elt=prover(q,g,h,x,r,d)\n",
    "    \n",
    "    if verifier(C,c,z,y,R,pi,A,elt,g,h)==True:\n",
    "        print(\"L element {} appartient a Data\".format(elt))\n",
    "    else:\n",
    "        print(\"L element {} n'appartient a Data\".format(elt))\n",
    "__main__()"
   ]
  },
  {
   "cell_type": "markdown",
   "metadata": {},
   "source": [
    "# End of Demo"
   ]
  },
  {
   "cell_type": "code",
   "execution_count": null,
   "metadata": {
    "collapsed": true
   },
   "outputs": [],
   "source": []
  }
 ],
 "metadata": {
  "kernelspec": {
   "display_name": "Python 2",
   "language": "python",
   "name": "python2"
  },
  "language_info": {
   "codemirror_mode": {
    "name": "ipython",
    "version": 2
   },
   "file_extension": ".py",
   "mimetype": "text/x-python",
   "name": "python",
   "nbconvert_exporter": "python",
   "pygments_lexer": "ipython2",
   "version": "2.7.13"
  }
 },
 "nbformat": 4,
 "nbformat_minor": 2
}
