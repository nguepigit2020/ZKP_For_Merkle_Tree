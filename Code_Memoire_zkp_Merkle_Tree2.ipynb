{
 "cells": [
  {
   "cell_type": "markdown",
   "metadata": {},
   "source": [
    "<h1 align=center> Implementation of ZKP for Merkle tree Using Python</h1>"
   ]
  },
  {
   "cell_type": "markdown",
   "metadata": {},
   "source": [
    "."
   ]
  },
  {
   "cell_type": "code",
   "execution_count": 97,
   "metadata": {
    "collapsed": true
   },
   "outputs": [],
   "source": [
    "from hashlib import*\n",
    "from math import*\n",
    "from csv import *\n",
    "from hashlib import * \n",
    "import os\n",
    "import random"
   ]
  },
  {
   "cell_type": "code",
   "execution_count": 98,
   "metadata": {
    "collapsed": true
   },
   "outputs": [],
   "source": [
    "L=[1,2,3,4,5,6,7,8,9,10,11,12,13,14,15,16,17,18,19,20,\"Nguepi\",\"Nguefack\",\"Tondji\"]\n",
    "L1=[1,2,3,4]\n"
   ]
  },
  {
   "cell_type": "code",
   "execution_count": 99,
   "metadata": {
    "collapsed": true
   },
   "outputs": [],
   "source": [
    "# This code allow us to integer hash  \n",
    "def hashThis_int(M):\n",
    "    r=0\n",
    "    hash=sha256();\n",
    "    hash.update(str(r).encode());\n",
    "    hash.update(M.encode());\n",
    "    return int(hash.hexdigest(),16);"
   ]
  },
  {
   "cell_type": "code",
   "execution_count": 100,
   "metadata": {
    "collapsed": false
   },
   "outputs": [
    {
     "data": {
      "text/plain": [
       "98308941888556364773191993917330179511595787205275262433735289253208501263596L"
      ]
     },
     "execution_count": 100,
     "metadata": {},
     "output_type": "execute_result"
    }
   ],
   "source": [
    "hashThis_int(\"Nguefack\")"
   ]
  },
  {
   "cell_type": "code",
   "execution_count": 101,
   "metadata": {
    "collapsed": true
   },
   "outputs": [],
   "source": [
    "## Check if the number is the power of two or not.\n",
    "def Check_power_two(x):\n",
    "    n=log(x)/log(2)\n",
    "    if n.is_integer():\n",
    "        return True\n",
    "    return False"
   ]
  },
  {
   "cell_type": "code",
   "execution_count": 102,
   "metadata": {
    "collapsed": true
   },
   "outputs": [],
   "source": [
    "#This function transform the content of csv file into a list.\n",
    "def Transform_csv_file_on_list(filePath):\n",
    "    filePath = '/home/nguepi/Bureau/Test.csv'\n",
    "    \n",
    "    fileOpen = open(filePath, 'rU')\n",
    "    # opening the file for reading in Universal NewLine (rU) \n",
    "\n",
    "    fileReader = reader(fileOpen)\n",
    "    # initializing the CSV Reader for traversing data inside the csv file\n",
    "\n",
    "    data_list = []\n",
    "    for row in fileReader :\n",
    "\n",
    "        for tnx in row :\n",
    "\n",
    "            currentItem = str(tnx)\n",
    "            data_list.append(currentItem)\n",
    "    return data_list"
   ]
  },
  {
   "cell_type": "code",
   "execution_count": 103,
   "metadata": {
    "collapsed": false
   },
   "outputs": [
    {
     "data": {
      "text/plain": [
       "['nguepi',\n",
       " 'nguepi',\n",
       " 'nguepi',\n",
       " 'nguepi',\n",
       " 'nguepi',\n",
       " 'nguepi',\n",
       " 'nguepi',\n",
       " 'nguepi',\n",
       " 'nguepi',\n",
       " 'nguepi',\n",
       " 'nguepi',\n",
       " 'idriss',\n",
       " 'idriss',\n",
       " 'idriss',\n",
       " 'idriss',\n",
       " 'idriss',\n",
       " 'idriss',\n",
       " 'idriss',\n",
       " 'idriss',\n",
       " 'idriss',\n",
       " 'idriss',\n",
       " 'idriss',\n",
       " 'idriss',\n",
       " 'nguefack',\n",
       " 'nguefack',\n",
       " 'nguefack',\n",
       " 'nguefack',\n",
       " 'nguefack',\n",
       " 'nguefack',\n",
       " 'nguefack',\n",
       " 'nguefack',\n",
       " 'nguefack']"
      ]
     },
     "execution_count": 103,
     "metadata": {},
     "output_type": "execute_result"
    }
   ],
   "source": [
    "filePath = '/home/nguepi/Bureau/Test.csv'\n",
    "Transform_csv_file_on_list(filePath)"
   ]
  },
  {
   "cell_type": "code",
   "execution_count": 104,
   "metadata": {
    "collapsed": true
   },
   "outputs": [],
   "source": [
    "## This function allow us to solve padding probleme.\n",
    "def Check_data_len(L):\n",
    "    while Check_power_two(len(L))==False:\n",
    "        L.append(random.randrange(0, 10000, 1))\n",
    "    return L       "
   ]
  },
  {
   "cell_type": "code",
   "execution_count": 105,
   "metadata": {
    "collapsed": true
   },
   "outputs": [],
   "source": [
    "## This function allow us to hash all the elements of the list L \n",
    "def Return_Hashlist(L):\n",
    "    List_result=[]\n",
    "    for i in range(len(L)):\n",
    "        List_result.append(sha256(str(L[i])).hexdigest())\n",
    "    return List_result  "
   ]
  },
  {
   "cell_type": "code",
   "execution_count": 106,
   "metadata": {
    "collapsed": true
   },
   "outputs": [],
   "source": [
    "## This function allow us to add an element L in the dictionnary Dict at the position i\n",
    "def Add_list(L,Dict,i):\n",
    "    Dict[str(i)]=L\n",
    "    return Dict"
   ]
  },
  {
   "cell_type": "code",
   "execution_count": 107,
   "metadata": {
    "collapsed": false
   },
   "outputs": [],
   "source": [
    "#Give the hash of the concatenation of H1 and H2.\n",
    "def Add_and_hash(H1,H2):\n",
    "    return sha256(str(hashThis_int(H1)+hashThis_int(H2))).hexdigest()"
   ]
  },
  {
   "cell_type": "code",
   "execution_count": 108,
   "metadata": {
    "collapsed": true
   },
   "outputs": [],
   "source": [
    "# This code allow us to build the Merkle tree\n",
    "def Merkle_tree(L):\n",
    "    j=2\n",
    "    Dict={}\n",
    "    Check_data_len(L)\n",
    "    Dict[str(0)]=L\n",
    "    L1=Return_Hashlist(L)\n",
    "    Add_list(L1,Dict,1)\n",
    "    while j<=int(log(len(L))/log(2)+1):\n",
    "        Lis=[]\n",
    "        for i in range(((len(L1)-1)//2)+1):\n",
    "            Lis.append(Add_and_hash(L1[2*i],L1[2*i+1]))\n",
    "        Add_list(Lis,Dict,j) \n",
    "        L1=Lis\n",
    "        j+=1  \n",
    "    return Dict"
   ]
  },
  {
   "cell_type": "code",
   "execution_count": 109,
   "metadata": {
    "collapsed": false
   },
   "outputs": [],
   "source": [
    "d=Merkle_tree(L)"
   ]
  },
  {
   "cell_type": "code",
   "execution_count": 110,
   "metadata": {
    "collapsed": false
   },
   "outputs": [
    {
     "data": {
      "text/plain": [
       "{'0': [1,\n",
       "  2,\n",
       "  3,\n",
       "  4,\n",
       "  5,\n",
       "  6,\n",
       "  7,\n",
       "  8,\n",
       "  9,\n",
       "  10,\n",
       "  11,\n",
       "  12,\n",
       "  13,\n",
       "  14,\n",
       "  15,\n",
       "  16,\n",
       "  17,\n",
       "  18,\n",
       "  19,\n",
       "  20,\n",
       "  'Nguepi',\n",
       "  'Nguefack',\n",
       "  'Tondji',\n",
       "  5356,\n",
       "  7394,\n",
       "  3722,\n",
       "  4545,\n",
       "  3735,\n",
       "  6790,\n",
       "  6899,\n",
       "  7314,\n",
       "  8707],\n",
       " '1': ['6b86b273ff34fce19d6b804eff5a3f5747ada4eaa22f1d49c01e52ddb7875b4b',\n",
       "  'd4735e3a265e16eee03f59718b9b5d03019c07d8b6c51f90da3a666eec13ab35',\n",
       "  '4e07408562bedb8b60ce05c1decfe3ad16b72230967de01f640b7e4729b49fce',\n",
       "  '4b227777d4dd1fc61c6f884f48641d02b4d121d3fd328cb08b5531fcacdabf8a',\n",
       "  'ef2d127de37b942baad06145e54b0c619a1f22327b2ebbcfbec78f5564afe39d',\n",
       "  'e7f6c011776e8db7cd330b54174fd76f7d0216b612387a5ffcfb81e6f0919683',\n",
       "  '7902699be42c8a8e46fbbb4501726517e86b22c56a189f7625a6da49081b2451',\n",
       "  '2c624232cdd221771294dfbb310aca000a0df6ac8b66b696d90ef06fdefb64a3',\n",
       "  '19581e27de7ced00ff1ce50b2047e7a567c76b1cbaebabe5ef03f7c3017bb5b7',\n",
       "  '4a44dc15364204a80fe80e9039455cc1608281820fe2b24f1e5233ade6af1dd5',\n",
       "  '4fc82b26aecb47d2868c4efbe3581732a3e7cbcc6c2efb32062c08170a05eeb8',\n",
       "  '6b51d431df5d7f141cbececcf79edf3dd861c3b4069f0b11661a3eefacbba918',\n",
       "  '3fdba35f04dc8c462986c992bcf875546257113072a909c162f7e470e581e278',\n",
       "  '8527a891e224136950ff32ca212b45bc93f69fbb801c3b1ebedac52775f99e61',\n",
       "  'e629fa6598d732768f7c726b4b621285f9c3b85303900aa912017db7617d8bdb',\n",
       "  'b17ef6d19c7a5b1ee83b907c595526dcb1eb06db8227d650d5dda0a9f4ce8cd9',\n",
       "  '4523540f1504cd17100c4835e85b7eefd49911580f8efff0599a8f283be6b9e3',\n",
       "  '4ec9599fc203d176a301536c2e091a19bc852759b255bd6818810a42c5fed14a',\n",
       "  '9400f1b21cb527d7fa3d3eabba93557a18ebe7a2ca4e471cfe5e4c5b4ca7f767',\n",
       "  'f5ca38f748a1d6eaf726b8a42fb575c3c71f1864a8143301782de13da2d9202b',\n",
       "  'e21ec6bfc717c9a812c2f7b1421ff0ee0cc03d57ff3df554abe30b09741f8d19',\n",
       "  '54868ac01036097129524afef9375822015ec03a0d934734e6f42966c0f9aa6a',\n",
       "  '8811fcef8213248d6df935505f3a68b4ffacc04436354703e30fc25b3040b3dc',\n",
       "  '9e25d9e0feebb92178df70684721fdb041a0b0bb9148363d9e0f60a8cb7f3d09',\n",
       "  'b4755fa1bacc6873c8a0a2b26dc7dad18ca5e230db87418e571f7baca76fdc31',\n",
       "  '2b44d508c4848ffc66d88d587f32828446af8f411949ad47dc4aa10ad9efe5a9',\n",
       "  'a994696540befd55c96017a162c7ae2685f2010a7fd3224c0ada25241913933b',\n",
       "  'cf6f8c91b5f482ba77b3fcd9c9bf838523fd29af79dd635f81ddf2c7f0cf4f0c',\n",
       "  '9943324cb3f1a48a2963633905d35b97c3a24eb4b8ee84aafaef348ec3490799',\n",
       "  '5eda48e9e42e830866407e178b16b4b9c1a23b0bbdf8b3a45f846ebc09433512',\n",
       "  'b6f6b6715fae0829382e6f3bef5fffcf0e7e87bb2136e511774768204b1d120b',\n",
       "  '05cdf255a7a0ed32664a306bc185eb89baeecc2df0943f8d4b56e77d582e203c'],\n",
       " '2': ['c689ef2d1ae9415ba75a468f031b0b5dbd1907c54afc1284e721ba9eb88cd053',\n",
       "  '58d6bf2106bbfe0ef3e589024ef0db8a419ef13a839e272e50283c5b44894ecc',\n",
       "  '4866a90594d0bf41bf162074671fbefe7840308a1e8b44571b858faf53161554',\n",
       "  'a69e223e110f10dac552b6730debea2f814df450bdc7533467caf78f10df2a0c',\n",
       "  '5c4ce7f346bff28d1ddddd1acaaac0a68c9271736c4c16ab1ff457a8a28bf90d',\n",
       "  'e3c498dffd45ef91a570c90efbbaaece19460e3e33053ba28c1e6631b5bf70c1',\n",
       "  'b60b5791504acf1bb624635069f906e3a85230fa049dcade451328ab171c279f',\n",
       "  '0a9ec82eb0c1c458bd34f2a72853f7a6326726d2c409856878904669b8c3b881',\n",
       "  'a34b2f2ed11ab8a89ae1a286e9f869b608de5c7f3fa9e2055978629798a833ae',\n",
       "  'd4874a315425ded7346a2ac52a62da2730c68a1bdb1a975bb36546390126c7fa',\n",
       "  'd9fbc54656c07aada68bd12ea287683ae096f8dda0a4e96e60ebb75513a4109e',\n",
       "  'bc747edffa86c71c25a1d759dd1fa94d6d39a62bf624f738eca1099527be83c0',\n",
       "  '4da8c7a1e666f54f2f754a0cc19b8ead592c1423ac11f8e8591770d820aa7c2b',\n",
       "  'a40669982de09350e258d525849e9facba94b168b5afc18e3c2f89d886b001e3',\n",
       "  'ba34450300be70179a2988f7c0a1dd5044a978add2c9a748f31728938c85c279',\n",
       "  '43f43907654421da0772cca3ff81de6a36e577906e2abe44b7ada94c6d859e55'],\n",
       " '3': ['0a6d319ba3f32265b55b2286ab08e62788508ed3ee50136fdab3a84098eb0c67',\n",
       "  'fc045d72cb6e2333159f084c1dd677d75f058df4570d09ec80e90b945fc74d27',\n",
       "  'f536192675783d67b6127b9bfcaa48248bf8c462ec09d8424aaa552b6ff4a80d',\n",
       "  '69d937ccbf7a438ad182fa3a32a41cf3c39fe5b5a260b675385b7d98db7d990a',\n",
       "  '0894fe68eea6b621bdbd4f505caeeeb45a290b27c1b687f69cd1e236193c3902',\n",
       "  '66e3049c5b9377e8a854443f8868e20fb6692877a8491e5a04d663b96a67b83d',\n",
       "  'e5278f26388296967678cb43ce4bd9366b17433a7690141311bd4dcaec36fcaa',\n",
       "  'ebcd3e2898f490cbfa224beb354c7abf379bdada719663ef9587b8c0f481b573'],\n",
       " '4': ['a3f49b0543fca4792957ce7a36a63b46c92a4aa5990dd9e543c9a24209bc574a',\n",
       "  '7ffe87e849a349d244fe832b218e4d7f13368cac44eef06937e318c6651c4880',\n",
       "  '42d336da4ad5301398333463cd1f9e8c638b9a9236ad66ae116307867403dbe7',\n",
       "  'bc0372b4906ff01a03db83c095ac13a92f69f0053351d87b6f6c8777e4148d6c'],\n",
       " '5': ['4de21ca37dbe102931deeecae9ef0f959893e061d20628e259dd61314ca874c2',\n",
       "  '6854db90b9bc00c2e5cf9ded54eb17dd7f37c23318882ff7ed7c0c3eff682d36'],\n",
       " '6': ['f2ca2cad893e8de0a05b5f504dcca7b0e62ad8e75d3ab22ab5e0431efd8b3203']}"
      ]
     },
     "execution_count": 110,
     "metadata": {},
     "output_type": "execute_result"
    }
   ],
   "source": [
    "d"
   ]
  },
  {
   "cell_type": "code",
   "execution_count": 111,
   "metadata": {
    "collapsed": false
   },
   "outputs": [],
   "source": [
    "def Return_Elt(d,e):\n",
    "    list_ = [] \n",
    "    A=d[str(int((log(len(d[str(0)]))/log(2))+1))]\n",
    "    if e not in d[str(0)]:\n",
    "        print(\"{} n appartient pas a la liste\".format(e))\n",
    "    else:\n",
    "        index = d[str(0)].index(e)\n",
    "        if index%2==0:\n",
    "            list_.append(d[str(1)][index])\n",
    "            list_.append(d[str(1)][index+1])\n",
    "            s = d[str(1)][index]\n",
    "            t = d[str(1)][index+1]\n",
    "        else:\n",
    "            list_.append(d[str(1)][index-1])\n",
    "            list_.append(d[str(1)][index])\n",
    "            s = d[str(1)][index-1]\n",
    "            t = d[str(1)][index]\n",
    "        for i in range(2,int((log(len(d[str(0)]))/log(2)))+1):\n",
    "            hach = Add_and_hash(s,t)\n",
    "            index = d[str(i)].index(hach)\n",
    "            if index%2==0:  \n",
    "                list_.append(d[str(i)][index+1])\n",
    "                s = d[str(i)][index]\n",
    "                t = d[str(i)][index+1]\n",
    "            else:\n",
    "                list_.append(d[str(i)][index-1])\n",
    "                s = d[str(i)][index-1]\n",
    "                t = d[str(i)][index]      \n",
    "    return list_,A[0]        "
   ]
  },
  {
   "cell_type": "code",
   "execution_count": 112,
   "metadata": {
    "collapsed": false
   },
   "outputs": [
    {
     "data": {
      "text/plain": [
       "['e629fa6598d732768f7c726b4b621285f9c3b85303900aa912017db7617d8bdb',\n",
       " 'b17ef6d19c7a5b1ee83b907c595526dcb1eb06db8227d650d5dda0a9f4ce8cd9',\n",
       " 'b60b5791504acf1bb624635069f906e3a85230fa049dcade451328ab171c279f',\n",
       " 'f536192675783d67b6127b9bfcaa48248bf8c462ec09d8424aaa552b6ff4a80d',\n",
       " 'a3f49b0543fca4792957ce7a36a63b46c92a4aa5990dd9e543c9a24209bc574a',\n",
       " '6854db90b9bc00c2e5cf9ded54eb17dd7f37c23318882ff7ed7c0c3eff682d36']"
      ]
     },
     "execution_count": 112,
     "metadata": {},
     "output_type": "execute_result"
    }
   ],
   "source": [
    "La,A=Return_Elt(d,15)\n",
    "e=La[0]\n",
    "La"
   ]
  },
  {
   "cell_type": "code",
   "execution_count": 113,
   "metadata": {
    "collapsed": false
   },
   "outputs": [
    {
     "data": {
      "text/plain": [
       "True"
      ]
     },
     "execution_count": 113,
     "metadata": {},
     "output_type": "execute_result"
    }
   ],
   "source": [
    "\n",
    "def Check_Membership(L,e,A):\n",
    "    if e not in L:\n",
    "        print('{} n appartient pas a l arbre'.format(e))\n",
    "    else:    \n",
    "        a = L[0]\n",
    "        for i in range(1,len(L)):\n",
    "            b = L[i]\n",
    "            a = Add_and_hash(a,b)\n",
    "        if a == A:\n",
    "            return  True\n",
    "        else:\n",
    "            return  False\n",
    "Check_Membership(La,e,A)"
   ]
  },
  {
   "cell_type": "code",
   "execution_count": 114,
   "metadata": {
    "collapsed": true
   },
   "outputs": [],
   "source": [
    "## Check if the number is prime or not\n",
    "def Is_prime(p):\n",
    "    result=[]\n",
    "    j=0\n",
    "    for i in range(1,p+1):\n",
    "        if p%i==0:\n",
    "            j+=1\n",
    "    if j==2:\n",
    "        return True\n",
    "    return False "
   ]
  },
  {
   "cell_type": "code",
   "execution_count": 115,
   "metadata": {
    "collapsed": true
   },
   "outputs": [],
   "source": [
    "def verifier_challenge(p):\n",
    "    if Is_prime(p):\n",
    "        return random.randint(1,p-1)\n",
    "    print(\"Veillez etrer un nombre premier!!!!\")"
   ]
  },
  {
   "cell_type": "code",
   "execution_count": 116,
   "metadata": {
    "collapsed": true
   },
   "outputs": [],
   "source": [
    "### Begin which the proof\n",
    "#def prover(g,h,p,d,x,r):\n",
    "    ##convert x in integer\n",
    "#    if not Is_prime(p):\n",
    "#        print('{} n est pas premier!!!!'.format(p))\n",
    "#    else:\n",
    "#        x=x%p\n",
    "#        C=(pow(g,x)*pow(h,r))%p\n",
    "#        k=random.randint(1,p-1)\n",
    "#        t=random.randint(1,p-1)\n",
    "#        R=(pow(g,k)*pow(h,t))%p\n",
    "#        c=2   #verifier_challenge(p)\n",
    "#        z=(k-c*x)%p\n",
    "#        y=(t-c*r)%p\n",
    "#        pi,A=Return_Elt(d,x) ## d represent the Merkle tree\n",
    "#        elt=pi[int(d[str(0)].index(x))]\n",
    "    \n",
    "#    return z,y,pi,A,C,c,R,elt"
   ]
  },
  {
   "cell_type": "code",
   "execution_count": 117,
   "metadata": {
    "collapsed": true
   },
   "outputs": [],
   "source": [
    "p=5\n",
    "h=2\n",
    "g=3\n",
    "q=3\n",
    "x=12\n",
    "r=3"
   ]
  },
  {
   "cell_type": "code",
   "execution_count": 124,
   "metadata": {
    "collapsed": false
   },
   "outputs": [],
   "source": [
    "# This is the prover algorithm\n",
    "def prover(q,g,h,x,r):\n",
    "    if not Is_prime(q):\n",
    "        print('{} n est pas premier!!!!'.format(q))\n",
    "    else:    \n",
    "        C=pow(g,x)*pow(h,r)\n",
    "        k=random.randint(1,q-1)\n",
    "        t=random.randint(1,q-1)    \n",
    "        #c=random.randint(1,q-1)\n",
    "        c=verifier_challenge(p)    ## this is the challenge\n",
    "        R=int(pow(g,k)*pow(h,t))\n",
    "        print(k,t,c)\n",
    "        z=k-c*x\n",
    "        y=t-c*r\n",
    "        pi,A=Return_Elt(d,x) ## d represent the Merkle tree\n",
    "        elt=sha256(str(x)).hexdigest()\n",
    "    return C,c,z,y,R,pi,A,elt"
   ]
  },
  {
   "cell_type": "code",
   "execution_count": 125,
   "metadata": {
    "collapsed": false
   },
   "outputs": [
    {
     "name": "stdout",
     "output_type": "stream",
     "text": [
      "(2, 1, 2)\n"
     ]
    },
    {
     "data": {
      "text/plain": [
       "(27894275208.0,\n",
       " 2,\n",
       " -38,\n",
       " -5,\n",
       " 18,\n",
       " ['9400f1b21cb527d7fa3d3eabba93557a18ebe7a2ca4e471cfe5e4c5b4ca7f767',\n",
       "  'f5ca38f748a1d6eaf726b8a42fb575c3c71f1864a8143301782de13da2d9202b',\n",
       "  'a34b2f2ed11ab8a89ae1a286e9f869b608de5c7f3fa9e2055978629798a833ae',\n",
       "  '66e3049c5b9377e8a854443f8868e20fb6692877a8491e5a04d663b96a67b83d',\n",
       "  'bc0372b4906ff01a03db83c095ac13a92f69f0053351d87b6f6c8777e4148d6c',\n",
       "  '4de21ca37dbe102931deeecae9ef0f959893e061d20628e259dd61314ca874c2'],\n",
       " 'f2ca2cad893e8de0a05b5f504dcca7b0e62ad8e75d3ab22ab5e0431efd8b3203',\n",
       " 'f5ca38f748a1d6eaf726b8a42fb575c3c71f1864a8143301782de13da2d9202b')"
      ]
     },
     "execution_count": 125,
     "metadata": {},
     "output_type": "execute_result"
    }
   ],
   "source": [
    "C,c,z,y,R,pi,A,elt=prover(3,3,2,20,3)\n",
    "C,c,z,y,R,pi,A,elt"
   ]
  },
  {
   "cell_type": "code",
   "execution_count": 186,
   "metadata": {
    "collapsed": false
   },
   "outputs": [],
   "source": [
    "# this is the verifier Algorithm\n",
    "def verifier(C,c,z,y,R,pi,A,elt,g,h):\n",
    "    r=int(pow(C,c)*pow(g,z)*pow(h,y))\n",
    "    bol=Check_Membership(pi,elt,A)\n",
    "    print(r,R)\n",
    "    if (R==r and bol==True):\n",
    "        \n",
    "        return True\n",
    "    return False"
   ]
  },
  {
   "cell_type": "code",
   "execution_count": 187,
   "metadata": {
    "collapsed": false
   },
   "outputs": [
    {
     "name": "stdout",
     "output_type": "stream",
     "text": [
      "(18, 18)\n"
     ]
    },
    {
     "data": {
      "text/plain": [
       "True"
      ]
     },
     "execution_count": 187,
     "metadata": {},
     "output_type": "execute_result"
    }
   ],
   "source": [
    "verifier(C,c,z,y,R,pi,A,elt,g,h)"
   ]
  },
  {
   "cell_type": "code",
   "execution_count": 188,
   "metadata": {
    "collapsed": false
   },
   "outputs": [
    {
     "name": "stdout",
     "output_type": "stream",
     "text": [
      "(14, 16, 3)\n",
      "(313456656384, 313456656384)\n",
      "L element f5ca38f748a1d6eaf726b8a42fb575c3c71f1864a8143301782de13da2d9202b appartient a Data\n"
     ]
    }
   ],
   "source": [
    "def __main__():\n",
    "    \n",
    "    p=51\n",
    "    h=2\n",
    "    g=3\n",
    "    q=31\n",
    "    x=20\n",
    "    r=3\n",
    "    Data= d\n",
    "    C,c,z,y,R,pi,A,elt=prover(q,g,h,x,r)\n",
    "    \n",
    "    if verifier(C,c,z,y,R,pi,A,elt,g,h)==True:\n",
    "        print(\"L element {} appartient a Data\".format(elt))\n",
    "    else:\n",
    "        print(\"L element {} n'appartient a Data\".format(elt))\n",
    "__main__()"
   ]
  },
  {
   "cell_type": "markdown",
   "metadata": {},
   "source": [
    "# End of Demo"
   ]
  }
 ],
 "metadata": {
  "kernelspec": {
   "display_name": "Python 2",
   "language": "python",
   "name": "python2"
  },
  "language_info": {
   "codemirror_mode": {
    "name": "ipython",
    "version": 2
   },
   "file_extension": ".py",
   "mimetype": "text/x-python",
   "name": "python",
   "nbconvert_exporter": "python",
   "pygments_lexer": "ipython2",
   "version": "2.7.13"
  }
 },
 "nbformat": 4,
 "nbformat_minor": 2
}
