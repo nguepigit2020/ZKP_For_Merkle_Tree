{
 "cells": [
  {
   "cell_type": "markdown",
   "metadata": {},
   "source": [
    "<h1 align=center> Implementation of ZKP for Merkle tree Using Python</h1>"
   ]
  },
  {
   "cell_type": "markdown",
   "metadata": {},
   "source": [
    "."
   ]
  },
  {
   "cell_type": "code",
   "execution_count": 5,
   "metadata": {
    "collapsed": true
   },
   "outputs": [],
   "source": [
    "from hashlib import*\n",
    "from math import*\n",
    "from csv import *\n",
    "from hashlib import * \n",
    "import os\n",
    "import random"
   ]
  },
  {
   "cell_type": "code",
   "execution_count": 6,
   "metadata": {
    "collapsed": true
   },
   "outputs": [],
   "source": [
    "L=[1,2,3,4,5,6,7,8,9,10,11,12,13,14,15,16,17,18,19,20,\"Nguepi\",\"Nguefack\",\"Tondji\"]\n",
    "L1=[1,2,3,4]\n"
   ]
  },
  {
   "cell_type": "code",
   "execution_count": 7,
   "metadata": {
    "collapsed": true
   },
   "outputs": [],
   "source": [
    "# This code allow us to integer hash  \n",
    "def hashThis_int(M):\n",
    "    r=0\n",
    "    hash=sha256();\n",
    "    hash.update(str(r).encode());\n",
    "    hash.update(M.encode());\n",
    "    return int(hash.hexdigest(),16);"
   ]
  },
  {
   "cell_type": "code",
   "execution_count": 10,
   "metadata": {
    "collapsed": false
   },
   "outputs": [
    {
     "data": {
      "text/plain": [
       "98308941888556364773191993917330179511595787205275262433735289253208501263596L"
      ]
     },
     "execution_count": 10,
     "metadata": {},
     "output_type": "execute_result"
    }
   ],
   "source": [
    "hashThis_int(\"Nguefack\")"
   ]
  },
  {
   "cell_type": "code",
   "execution_count": 11,
   "metadata": {
    "collapsed": true
   },
   "outputs": [],
   "source": [
    "## Check if the number is the power of two or not.\n",
    "def Check_power_two(x):\n",
    "    n=log(x)/log(2)\n",
    "    if n.is_integer():\n",
    "        return True\n",
    "    return False"
   ]
  },
  {
   "cell_type": "code",
   "execution_count": 12,
   "metadata": {
    "collapsed": true
   },
   "outputs": [],
   "source": [
    "#This function transform the content of csv file into a list.\n",
    "def Transform_csv_file_on_list(filePath):\n",
    "    filePath = '/home/nguepi/Bureau/Test.csv'\n",
    "    \n",
    "    fileOpen = open(filePath, 'rU')\n",
    "    # opening the file for reading in Universal NewLine (rU) \n",
    "\n",
    "    fileReader = reader(fileOpen)\n",
    "    # initializing the CSV Reader for traversing data inside the csv file\n",
    "\n",
    "    data_list = []\n",
    "    for row in fileReader :\n",
    "\n",
    "        for tnx in row :\n",
    "\n",
    "            currentItem = str(tnx)\n",
    "            data_list.append(currentItem)\n",
    "    return data_list"
   ]
  },
  {
   "cell_type": "code",
   "execution_count": 13,
   "metadata": {
    "collapsed": false
   },
   "outputs": [
    {
     "data": {
      "text/plain": [
       "['nguepi',\n",
       " 'nguepi',\n",
       " 'nguepi',\n",
       " 'nguepi',\n",
       " 'nguepi',\n",
       " 'nguepi',\n",
       " 'nguepi',\n",
       " 'nguepi',\n",
       " 'nguepi',\n",
       " 'nguepi',\n",
       " 'nguepi',\n",
       " 'idriss',\n",
       " 'idriss',\n",
       " 'idriss',\n",
       " 'idriss',\n",
       " 'idriss',\n",
       " 'idriss',\n",
       " 'idriss',\n",
       " 'idriss',\n",
       " 'idriss',\n",
       " 'idriss',\n",
       " 'idriss',\n",
       " 'idriss',\n",
       " 'nguefack',\n",
       " 'nguefack',\n",
       " 'nguefack',\n",
       " 'nguefack',\n",
       " 'nguefack',\n",
       " 'nguefack',\n",
       " 'nguefack',\n",
       " 'nguefack',\n",
       " 'nguefack']"
      ]
     },
     "execution_count": 13,
     "metadata": {},
     "output_type": "execute_result"
    }
   ],
   "source": [
    "filePath = '/home/nguepi/Bureau/Test.csv'\n",
    "Transform_csv_file_on_list(filePath)"
   ]
  },
  {
   "cell_type": "code",
   "execution_count": 14,
   "metadata": {
    "collapsed": true
   },
   "outputs": [],
   "source": [
    "## This function allow us to solve padding probleme.\n",
    "def Check_data_len(L):\n",
    "    while Check_power_two(len(L))==False:\n",
    "        L.append(random.randrange(0, 10000, 1))\n",
    "    return L       "
   ]
  },
  {
   "cell_type": "code",
   "execution_count": 15,
   "metadata": {
    "collapsed": true
   },
   "outputs": [],
   "source": [
    "## This function allow us to hash all the elements of the list L \n",
    "def Return_Hashlist(L):\n",
    "    List_result=[]\n",
    "    for i in range(len(L)):\n",
    "        List_result.append(sha256(str(L[i])).hexdigest())\n",
    "    return List_result  "
   ]
  },
  {
   "cell_type": "code",
   "execution_count": 16,
   "metadata": {
    "collapsed": true
   },
   "outputs": [],
   "source": [
    "## This function allow us to add an element L in the dictionnary Dict at the position i\n",
    "def Add_list(L,Dict,i):\n",
    "    Dict[str(i)]=L\n",
    "    return Dict"
   ]
  },
  {
   "cell_type": "code",
   "execution_count": 17,
   "metadata": {
    "collapsed": false
   },
   "outputs": [],
   "source": [
    "#Give the hash of the concatenation of H1 and H2.\n",
    "def Add_and_hash(H1,H2):\n",
    "    return sha256(str(hashThis_int(H1)+hashThis_int(H2))).hexdigest()"
   ]
  },
  {
   "cell_type": "code",
   "execution_count": 18,
   "metadata": {
    "collapsed": true
   },
   "outputs": [],
   "source": [
    "# This code allow us to build the Merkle tree\n",
    "def Merkle_tree(L):\n",
    "    j=2\n",
    "    Dict={}\n",
    "    Check_data_len(L)\n",
    "    Dict[str(0)]=L\n",
    "    L1=Return_Hashlist(L)\n",
    "    Add_list(L1,Dict,1)\n",
    "    while j<=int(log(len(L))/log(2)+1):\n",
    "        Lis=[]\n",
    "        for i in range(((len(L1)-1)//2)+1):\n",
    "            Lis.append(Add_and_hash(L1[2*i],L1[2*i+1]))\n",
    "        Add_list(Lis,Dict,j) \n",
    "        L1=Lis\n",
    "        j+=1  \n",
    "    return Dict"
   ]
  },
  {
   "cell_type": "code",
   "execution_count": 19,
   "metadata": {
    "collapsed": false
   },
   "outputs": [],
   "source": [
    "d=Merkle_tree(L)"
   ]
  },
  {
   "cell_type": "code",
   "execution_count": 20,
   "metadata": {
    "collapsed": false
   },
   "outputs": [
    {
     "data": {
      "text/plain": [
       "{'0': [1,\n",
       "  2,\n",
       "  3,\n",
       "  4,\n",
       "  5,\n",
       "  6,\n",
       "  7,\n",
       "  8,\n",
       "  9,\n",
       "  10,\n",
       "  11,\n",
       "  12,\n",
       "  13,\n",
       "  14,\n",
       "  15,\n",
       "  16,\n",
       "  17,\n",
       "  18,\n",
       "  19,\n",
       "  20,\n",
       "  'Nguepi',\n",
       "  'Nguefack',\n",
       "  'Tondji',\n",
       "  5239,\n",
       "  3600,\n",
       "  6065,\n",
       "  2986,\n",
       "  4685,\n",
       "  5010,\n",
       "  1343,\n",
       "  647,\n",
       "  3767],\n",
       " '1': ['6b86b273ff34fce19d6b804eff5a3f5747ada4eaa22f1d49c01e52ddb7875b4b',\n",
       "  'd4735e3a265e16eee03f59718b9b5d03019c07d8b6c51f90da3a666eec13ab35',\n",
       "  '4e07408562bedb8b60ce05c1decfe3ad16b72230967de01f640b7e4729b49fce',\n",
       "  '4b227777d4dd1fc61c6f884f48641d02b4d121d3fd328cb08b5531fcacdabf8a',\n",
       "  'ef2d127de37b942baad06145e54b0c619a1f22327b2ebbcfbec78f5564afe39d',\n",
       "  'e7f6c011776e8db7cd330b54174fd76f7d0216b612387a5ffcfb81e6f0919683',\n",
       "  '7902699be42c8a8e46fbbb4501726517e86b22c56a189f7625a6da49081b2451',\n",
       "  '2c624232cdd221771294dfbb310aca000a0df6ac8b66b696d90ef06fdefb64a3',\n",
       "  '19581e27de7ced00ff1ce50b2047e7a567c76b1cbaebabe5ef03f7c3017bb5b7',\n",
       "  '4a44dc15364204a80fe80e9039455cc1608281820fe2b24f1e5233ade6af1dd5',\n",
       "  '4fc82b26aecb47d2868c4efbe3581732a3e7cbcc6c2efb32062c08170a05eeb8',\n",
       "  '6b51d431df5d7f141cbececcf79edf3dd861c3b4069f0b11661a3eefacbba918',\n",
       "  '3fdba35f04dc8c462986c992bcf875546257113072a909c162f7e470e581e278',\n",
       "  '8527a891e224136950ff32ca212b45bc93f69fbb801c3b1ebedac52775f99e61',\n",
       "  'e629fa6598d732768f7c726b4b621285f9c3b85303900aa912017db7617d8bdb',\n",
       "  'b17ef6d19c7a5b1ee83b907c595526dcb1eb06db8227d650d5dda0a9f4ce8cd9',\n",
       "  '4523540f1504cd17100c4835e85b7eefd49911580f8efff0599a8f283be6b9e3',\n",
       "  '4ec9599fc203d176a301536c2e091a19bc852759b255bd6818810a42c5fed14a',\n",
       "  '9400f1b21cb527d7fa3d3eabba93557a18ebe7a2ca4e471cfe5e4c5b4ca7f767',\n",
       "  'f5ca38f748a1d6eaf726b8a42fb575c3c71f1864a8143301782de13da2d9202b',\n",
       "  'e21ec6bfc717c9a812c2f7b1421ff0ee0cc03d57ff3df554abe30b09741f8d19',\n",
       "  '54868ac01036097129524afef9375822015ec03a0d934734e6f42966c0f9aa6a',\n",
       "  '8811fcef8213248d6df935505f3a68b4ffacc04436354703e30fc25b3040b3dc',\n",
       "  'b11fca347f8eabb8628568b967c3f2a352e6a420d3bee77ba72508cff81949d2',\n",
       "  '8b34042b7a96b3ba94b27ad723ca8f57787eefbab2083b3098173c444aefbfdf',\n",
       "  '0e497cfde2219505f28f291abbd2f7636aa141ed3af3ee9efcfecaee5e92000e',\n",
       "  '41b241da3723567782becdfe87b2425ac6bcdf92ff2d2025de42067af61b9096',\n",
       "  'f1db6e1910603d9fe6a7b70ef51bd832153f14b3093537cee88899fe08cf64be',\n",
       "  '491a89805507165fc44da607f6c021fdb5210da49f55236b61c124e27aa09573',\n",
       "  '2b0ebe245db547be83a6fe7635f1e9204b237b7e9f8ed0347fd92cede5791c60',\n",
       "  '86bc00bf176c8b99e9cbdd89afdd2492de002c1dcce63606f711e0c04203c4da',\n",
       "  '6938d183432da8aedcd41519a0eb59425373a48776aa79eeab41e7f1b7a9cf73'],\n",
       " '2': ['c689ef2d1ae9415ba75a468f031b0b5dbd1907c54afc1284e721ba9eb88cd053',\n",
       "  '58d6bf2106bbfe0ef3e589024ef0db8a419ef13a839e272e50283c5b44894ecc',\n",
       "  '4866a90594d0bf41bf162074671fbefe7840308a1e8b44571b858faf53161554',\n",
       "  'a69e223e110f10dac552b6730debea2f814df450bdc7533467caf78f10df2a0c',\n",
       "  '5c4ce7f346bff28d1ddddd1acaaac0a68c9271736c4c16ab1ff457a8a28bf90d',\n",
       "  'e3c498dffd45ef91a570c90efbbaaece19460e3e33053ba28c1e6631b5bf70c1',\n",
       "  'b60b5791504acf1bb624635069f906e3a85230fa049dcade451328ab171c279f',\n",
       "  '0a9ec82eb0c1c458bd34f2a72853f7a6326726d2c409856878904669b8c3b881',\n",
       "  'a34b2f2ed11ab8a89ae1a286e9f869b608de5c7f3fa9e2055978629798a833ae',\n",
       "  'd4874a315425ded7346a2ac52a62da2730c68a1bdb1a975bb36546390126c7fa',\n",
       "  'd9fbc54656c07aada68bd12ea287683ae096f8dda0a4e96e60ebb75513a4109e',\n",
       "  '9e38ec82846338c28f696fcdd84591faca5a0666df032e26c0bac4c5f2bbf4b3',\n",
       "  '541aaa80ffdbef5ddc7d7e3612be77a4cf9884b8fac50a75f3645f9fedd1dc6d',\n",
       "  'c11f64e29063b7d3a18524f553dd22cad0f6df74d689653b88e6dfbc44ac54fa',\n",
       "  '85ff3b6bbaf57b7b2e1a36fb2380751afb06d261553535d119081752cec161d0',\n",
       "  'dc8ce7496cc964f4cf0b9cb5ffbb38d2a4bd1212ea10530c5cdcac05d4e0b4b9'],\n",
       " '3': ['0a6d319ba3f32265b55b2286ab08e62788508ed3ee50136fdab3a84098eb0c67',\n",
       "  'fc045d72cb6e2333159f084c1dd677d75f058df4570d09ec80e90b945fc74d27',\n",
       "  'f536192675783d67b6127b9bfcaa48248bf8c462ec09d8424aaa552b6ff4a80d',\n",
       "  '69d937ccbf7a438ad182fa3a32a41cf3c39fe5b5a260b675385b7d98db7d990a',\n",
       "  '0894fe68eea6b621bdbd4f505caeeeb45a290b27c1b687f69cd1e236193c3902',\n",
       "  '770d6781e09b86d851b41d4bb14372f39ac957f4db0a2b95c1044ca29871b404',\n",
       "  'b90f1a1da28d3b52eff327a35eee795366c1636666ecd242b6cd0302df366188',\n",
       "  '531ff78d7461878d617dd11a565ddd9c1b47978f872763b91ce0cc6bb44130f1'],\n",
       " '4': ['a3f49b0543fca4792957ce7a36a63b46c92a4aa5990dd9e543c9a24209bc574a',\n",
       "  '7ffe87e849a349d244fe832b218e4d7f13368cac44eef06937e318c6651c4880',\n",
       "  '1712535fbebd204b1234e34fa253b9628e6e73c8f22f210dcf268c847edd060a',\n",
       "  '780dd6f41ae83b2544e4a3b752402a27247b797a044bef4e0348c16a32de9cab'],\n",
       " '5': ['4de21ca37dbe102931deeecae9ef0f959893e061d20628e259dd61314ca874c2',\n",
       "  '49fa3398134898fa424f58fbe9c7c1d9e7328ace9ad19bfd6417abba328379fc'],\n",
       " '6': ['af1303f2f55d8f4e474e70737b9b3829159dda140a65d31f742bf9f10600434e']}"
      ]
     },
     "execution_count": 20,
     "metadata": {},
     "output_type": "execute_result"
    }
   ],
   "source": [
    "d"
   ]
  },
  {
   "cell_type": "code",
   "execution_count": 187,
   "metadata": {
    "collapsed": false
   },
   "outputs": [],
   "source": [
    "def Return_Elt(d,e):\n",
    "    list_ = [] \n",
    "    A=d[str(int((log(len(d[str(0)]))/log(2))+1))]\n",
    "    if e not in d[str(0)]:\n",
    "        print(\"{} n appartient pas a la liste\".format(e))\n",
    "    else:\n",
    "        index = d[str(0)].index(e)\n",
    "        if index%2==0:\n",
    "            list_.append(d[str(1)][index])\n",
    "            list_.append(d[str(1)][index+1])\n",
    "            s = d[str(1)][index]\n",
    "            t = d[str(1)][index+1]\n",
    "        else:\n",
    "            list_.append(d[str(1)][index-1])\n",
    "            list_.append(d[str(1)][index])\n",
    "            s = d[str(1)][index-1]\n",
    "            t = d[str(1)][index]\n",
    "        for i in range(2,int((log(len(d[str(0)]))/log(2)))+1):\n",
    "            hach = Add_and_hash(s,t)\n",
    "            index = d[str(i)].index(hach)\n",
    "            if index%2==0:  \n",
    "                list_.append(d[str(i)][index+1])\n",
    "                s = d[str(i)][index]\n",
    "                t = d[str(i)][index+1]\n",
    "            else:\n",
    "                list_.append(d[str(i)][index-1])\n",
    "                s = d[str(i)][index-1]\n",
    "                t = d[str(i)][index]      \n",
    "    return list_,A[0]        "
   ]
  },
  {
   "cell_type": "code",
   "execution_count": 188,
   "metadata": {
    "collapsed": false
   },
   "outputs": [
    {
     "data": {
      "text/plain": [
       "['e629fa6598d732768f7c726b4b621285f9c3b85303900aa912017db7617d8bdb',\n",
       " 'b17ef6d19c7a5b1ee83b907c595526dcb1eb06db8227d650d5dda0a9f4ce8cd9',\n",
       " 'b60b5791504acf1bb624635069f906e3a85230fa049dcade451328ab171c279f',\n",
       " 'f536192675783d67b6127b9bfcaa48248bf8c462ec09d8424aaa552b6ff4a80d',\n",
       " 'a3f49b0543fca4792957ce7a36a63b46c92a4aa5990dd9e543c9a24209bc574a',\n",
       " '49fa3398134898fa424f58fbe9c7c1d9e7328ace9ad19bfd6417abba328379fc']"
      ]
     },
     "execution_count": 188,
     "metadata": {},
     "output_type": "execute_result"
    }
   ],
   "source": [
    "La,A=Return_Elt(d,15)\n",
    "e=La[0]\n",
    "La"
   ]
  },
  {
   "cell_type": "code",
   "execution_count": 189,
   "metadata": {
    "collapsed": false
   },
   "outputs": [
    {
     "data": {
      "text/plain": [
       "True"
      ]
     },
     "execution_count": 189,
     "metadata": {},
     "output_type": "execute_result"
    }
   ],
   "source": [
    "\n",
    "def Check_Membership(L,e,A):\n",
    "    if e not in L:\n",
    "        print('{} n appartient pas a l arbre'.format(e))\n",
    "    else:    \n",
    "        a = L[0]\n",
    "        for i in range(1,len(L)):\n",
    "            b = L[i]\n",
    "            a = Add_and_hash(a,b)\n",
    "        if a == A:\n",
    "            return  True\n",
    "        else:\n",
    "            return  False\n",
    "Check_Membership(La,e,A)"
   ]
  },
  {
   "cell_type": "code",
   "execution_count": 190,
   "metadata": {
    "collapsed": true
   },
   "outputs": [],
   "source": [
    "## Check if the number is prime or not\n",
    "def Is_prime(p):\n",
    "    result=[]\n",
    "    j=0\n",
    "    for i in range(1,p+1):\n",
    "        if p%i==0:\n",
    "            j+=1\n",
    "    if j==2:\n",
    "        return True\n",
    "    return False "
   ]
  },
  {
   "cell_type": "code",
   "execution_count": 191,
   "metadata": {
    "collapsed": true
   },
   "outputs": [],
   "source": [
    "def verifier_challenge(p):\n",
    "    if Is_prime(p):\n",
    "        return random.randint(1,p-1)\n",
    "    print(\"Veillez etrer un nombre premier!!!!\")"
   ]
  },
  {
   "cell_type": "code",
   "execution_count": 192,
   "metadata": {
    "collapsed": true
   },
   "outputs": [],
   "source": [
    "### Begin which the proof\n",
    "def prover(g,h,p,d,x,r):\n",
    "    ##convert x in integer\n",
    "    if not Is_prime(p):\n",
    "        print('{} n est pas premier!!!!'.format(p))\n",
    "    else:\n",
    "        x=x%p\n",
    "        C=(pow(g,x)*pow(h,r))%p\n",
    "        k=random.randint(1,p-1)\n",
    "        t=random.randint(1,p-1)\n",
    "        R=(pow(g,k)*pow(h,t))%p\n",
    "        c=2   #verifier_challenge(p)\n",
    "        z=(k-c*x)%p\n",
    "        y=(t-c*r)%p\n",
    "        pi,A=Return_Elt(d,x) ## d represent the Merkle tree\n",
    "        elt=pi[int(d[str(0)].index(x))]\n",
    "    \n",
    "    return z,y,pi,A,C,c,R,elt"
   ]
  },
  {
   "cell_type": "code",
   "execution_count": 193,
   "metadata": {
    "collapsed": false
   },
   "outputs": [
    {
     "data": {
      "text/plain": [
       "(2,\n",
       " 1,\n",
       " ['6b86b273ff34fce19d6b804eff5a3f5747ada4eaa22f1d49c01e52ddb7875b4b',\n",
       "  'd4735e3a265e16eee03f59718b9b5d03019c07d8b6c51f90da3a666eec13ab35',\n",
       "  '58d6bf2106bbfe0ef3e589024ef0db8a419ef13a839e272e50283c5b44894ecc',\n",
       "  'fc045d72cb6e2333159f084c1dd677d75f058df4570d09ec80e90b945fc74d27',\n",
       "  '7ffe87e849a349d244fe832b218e4d7f13368cac44eef06937e318c6651c4880',\n",
       "  '49fa3398134898fa424f58fbe9c7c1d9e7328ace9ad19bfd6417abba328379fc'],\n",
       " 'af1303f2f55d8f4e474e70737b9b3829159dda140a65d31f742bf9f10600434e',\n",
       " 4.0,\n",
       " 2,\n",
       " 2.0,\n",
       " 'd4735e3a265e16eee03f59718b9b5d03019c07d8b6c51f90da3a666eec13ab35')"
      ]
     },
     "execution_count": 193,
     "metadata": {},
     "output_type": "execute_result"
    }
   ],
   "source": [
    "g=2\n",
    "h=3\n",
    "p=5\n",
    "z,y,pi,A,C,c,R,elt=prover(2,3,5,d,2,4)\n",
    "z,y,pi,A,C,c,R,elt"
   ]
  },
  {
   "cell_type": "code",
   "execution_count": 199,
   "metadata": {
    "collapsed": false
   },
   "outputs": [
    {
     "data": {
      "text/plain": [
       "'af1303f2f55d8f4e474e70737b9b3829159dda140a65d31f742bf9f10600434e'"
      ]
     },
     "execution_count": 199,
     "metadata": {},
     "output_type": "execute_result"
    }
   ],
   "source": [
    "A"
   ]
  },
  {
   "cell_type": "code",
   "execution_count": 200,
   "metadata": {
    "collapsed": false
   },
   "outputs": [
    {
     "data": {
      "text/plain": [
       "'d4735e3a265e16eee03f59718b9b5d03019c07d8b6c51f90da3a666eec13ab35'"
      ]
     },
     "execution_count": 200,
     "metadata": {},
     "output_type": "execute_result"
    }
   ],
   "source": [
    "elt"
   ]
  },
  {
   "cell_type": "code",
   "execution_count": 201,
   "metadata": {
    "collapsed": false
   },
   "outputs": [
    {
     "data": {
      "text/plain": [
       "True"
      ]
     },
     "execution_count": 201,
     "metadata": {},
     "output_type": "execute_result"
    }
   ],
   "source": [
    "Check_Membership(pi,elt,A)"
   ]
  },
  {
   "cell_type": "code",
   "execution_count": 202,
   "metadata": {
    "collapsed": true
   },
   "outputs": [],
   "source": [
    "#### Begin which verification\n",
    "def Verifier(g,h,p,z,y,pi,A,C,c,R,elt): #pi is hash list of intermediaite note\n",
    "    r=(pow(C,c)*pow(g,z)*pow(h,y))%p\n",
    "    bol=Check_Membership(pi,elt,A) \n",
    "    print(r,R)\n",
    "    if bol==True and r==R:\n",
    "        return True\n",
    "    return False\n"
   ]
  },
  {
   "cell_type": "code",
   "execution_count": 203,
   "metadata": {
    "collapsed": false
   },
   "outputs": [
    {
     "name": "stdout",
     "output_type": "stream",
     "text": [
      "(2.0, 2.0)\n"
     ]
    },
    {
     "data": {
      "text/plain": [
       "True"
      ]
     },
     "execution_count": 203,
     "metadata": {},
     "output_type": "execute_result"
    }
   ],
   "source": [
    "Verifier(g,h,p,z,y,pi,A,C,c,R,elt)"
   ]
  },
  {
   "cell_type": "code",
   "execution_count": 248,
   "metadata": {
    "collapsed": false
   },
   "outputs": [
    {
     "name": "stdout",
     "output_type": "stream",
     "text": [
      "(3, 2, 1, 3, 4.0)\n"
     ]
    }
   ],
   "source": [
    "k=random.randint(1,p-1)\n",
    "t=random.randint(1,p-1)\n",
    "c=verifier_challenge(p)\n",
    "z=(k-c*x)%p \n",
    "y=(t-c*r)%p\n",
    "print(k,t,c,z,y)"
   ]
  },
  {
   "cell_type": "code",
   "execution_count": 249,
   "metadata": {
    "collapsed": false
   },
   "outputs": [
    {
     "data": {
      "text/plain": [
       "True"
      ]
     },
     "execution_count": 249,
     "metadata": {},
     "output_type": "execute_result"
    }
   ],
   "source": [
    "r=(pow(C,c)*pow(g,z)*pow(h,y))%p\n",
    "R=(pow(g,k)*pow(h,t))%p\n",
    "R==r\n"
   ]
  },
  {
   "cell_type": "code",
   "execution_count": 231,
   "metadata": {
    "collapsed": false
   },
   "outputs": [
    {
     "name": "stdout",
     "output_type": "stream",
     "text": [
      "(2.0, 2.0)\n",
      "L element d4735e3a265e16eee03f59718b9b5d03019c07d8b6c51f90da3a666eec13ab35 appartient a Data\n"
     ]
    }
   ],
   "source": [
    "def __main__():\n",
    "    g=2\n",
    "    h=3\n",
    "    p=5\n",
    "    Data= d\n",
    "    x=2\n",
    "    r=4\n",
    "    z,y,pi,A,C,c,R,elt=prover(g,h,p,d,x,r)\n",
    "    \n",
    "    if Verifier(g,h,p,z,y,pi,A,C,c,R,elt)==True:\n",
    "        print(\"L element {} appartient a Data\".format(elt))\n",
    "    else:\n",
    "        print(\"L element {} n'appartient a Data\".format(elt))\n",
    "__main__()"
   ]
  },
  {
   "cell_type": "code",
   "execution_count": null,
   "metadata": {
    "collapsed": true
   },
   "outputs": [],
   "source": []
  },
  {
   "cell_type": "code",
   "execution_count": null,
   "metadata": {
    "collapsed": true
   },
   "outputs": [],
   "source": []
  },
  {
   "cell_type": "code",
   "execution_count": null,
   "metadata": {
    "collapsed": true
   },
   "outputs": [],
   "source": []
  }
 ],
 "metadata": {
  "kernelspec": {
   "display_name": "Python 2",
   "language": "python",
   "name": "python2"
  },
  "language_info": {
   "codemirror_mode": {
    "name": "ipython",
    "version": 2
   },
   "file_extension": ".py",
   "mimetype": "text/x-python",
   "name": "python",
   "nbconvert_exporter": "python",
   "pygments_lexer": "ipython2",
   "version": "2.7.13"
  }
 },
 "nbformat": 4,
 "nbformat_minor": 2
}
