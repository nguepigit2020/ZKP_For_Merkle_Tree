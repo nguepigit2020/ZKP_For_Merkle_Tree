{
 "cells": [
  {
   "cell_type": "markdown",
   "metadata": {},
   "source": [
    "<h1 align=center> Implementation of ZKP for Merkle tree Using Python</h1>"
   ]
  },
  {
   "cell_type": "markdown",
   "metadata": {},
   "source": [
    "."
   ]
  },
  {
   "cell_type": "code",
   "execution_count": 146,
   "metadata": {
    "collapsed": true
   },
   "outputs": [],
   "source": [
    "from math import*\n",
    "from csv import *\n",
    "from hashlib import * \n",
    "import os\n",
    "import random\n",
    "import matplotlib.pyplot as plt\n",
    "import networkx as nx\n",
    "import pydot\n",
    "from networkx.drawing.nx_pydot import graphviz_layout"
   ]
  },
  {
   "cell_type": "code",
   "execution_count": 147,
   "metadata": {
    "collapsed": true
   },
   "outputs": [],
   "source": [
    "L=[1,2,3,4,5,6,7,8,9,10,11,12,13,14,15,16,17,18,19,20,\"Nguepi\",\"Nguefack\",\"Tondji\"]\n",
    "L1=[1,2,3,4,5,6,7,8]\n"
   ]
  },
  {
   "cell_type": "code",
   "execution_count": 148,
   "metadata": {
    "collapsed": true
   },
   "outputs": [],
   "source": [
    "# This code allow us to integer hash  \n",
    "def hashThis_int(M):\n",
    "    r=0\n",
    "    hash=sha256();\n",
    "    hash.update(str(r).encode());\n",
    "    hash.update(M.encode());\n",
    "    return int(hash.hexdigest(),16);"
   ]
  },
  {
   "cell_type": "code",
   "execution_count": 149,
   "metadata": {
    "collapsed": false
   },
   "outputs": [
    {
     "data": {
      "text/plain": [
       "98308941888556364773191993917330179511595787205275262433735289253208501263596L"
      ]
     },
     "execution_count": 149,
     "metadata": {},
     "output_type": "execute_result"
    }
   ],
   "source": [
    "hashThis_int(\"Nguefack\")"
   ]
  },
  {
   "cell_type": "code",
   "execution_count": 150,
   "metadata": {
    "collapsed": true
   },
   "outputs": [],
   "source": [
    "## Check if the number is the power of two or not.\n",
    "def Check_power_two(x):\n",
    "    n=log(x)/log(2)\n",
    "    if n.is_integer():\n",
    "        return True\n",
    "    return False"
   ]
  },
  {
   "cell_type": "code",
   "execution_count": 151,
   "metadata": {
    "collapsed": true
   },
   "outputs": [],
   "source": [
    "#This function transform the content of csv file into a list.\n",
    "def Transform_csv_file_on_list(filePath):\n",
    "    # Test.csv is in my Bureau location\n",
    "    filePath = '/home/nguepi/Bureau/Test.csv'\n",
    "    \n",
    "    fileOpen = open(filePath, 'rU')\n",
    "    # opening the file for reading in Universal NewLine (rU) \n",
    "\n",
    "    fileReader = reader(fileOpen)\n",
    "    # initializing the CSV Reader for traversing data inside the csv file\n",
    "\n",
    "    data_list = []\n",
    "    for row in fileReader :\n",
    "\n",
    "        for tnx in row :\n",
    "\n",
    "            currentItem = str(tnx)\n",
    "            data_list.append(currentItem)\n",
    "    return data_list"
   ]
  },
  {
   "cell_type": "code",
   "execution_count": 152,
   "metadata": {
    "collapsed": false
   },
   "outputs": [
    {
     "data": {
      "text/plain": [
       "['nguepi',\n",
       " 'nguepi',\n",
       " 'nguepi',\n",
       " 'nguepi',\n",
       " 'nguepi',\n",
       " 'nguepi',\n",
       " 'nguepi',\n",
       " 'nguepi',\n",
       " 'nguepi',\n",
       " 'nguepi',\n",
       " 'nguepi',\n",
       " 'idriss',\n",
       " 'idriss',\n",
       " 'idriss',\n",
       " 'idriss',\n",
       " 'idriss',\n",
       " 'idriss',\n",
       " 'idriss',\n",
       " 'idriss',\n",
       " 'idriss',\n",
       " 'idriss',\n",
       " 'idriss',\n",
       " 'idriss',\n",
       " 'nguefack',\n",
       " 'nguefack',\n",
       " 'nguefack',\n",
       " 'nguefack',\n",
       " 'nguefack',\n",
       " 'nguefack',\n",
       " 'nguefack',\n",
       " 'nguefack',\n",
       " 'nguefack']"
      ]
     },
     "execution_count": 152,
     "metadata": {},
     "output_type": "execute_result"
    }
   ],
   "source": [
    "filePath = '/home/nguepi/Bureau/Test.csv'\n",
    "Transform_csv_file_on_list(filePath)"
   ]
  },
  {
   "cell_type": "code",
   "execution_count": 153,
   "metadata": {
    "collapsed": true
   },
   "outputs": [],
   "source": [
    "## This function allow us to solve padding probleme.\n",
    "def Check_data_len(L):\n",
    "    while Check_power_two(len(L))==False:\n",
    "        L.append(random.randrange(0, 10000, 1))\n",
    "    return L       "
   ]
  },
  {
   "cell_type": "code",
   "execution_count": 154,
   "metadata": {
    "collapsed": true
   },
   "outputs": [],
   "source": [
    "## This function allow us to hash all the elements of the list L \n",
    "def Return_Hashlist(L):\n",
    "    List_result=[]\n",
    "    for i in range(len(L)):\n",
    "        List_result.append(sha256(str(L[i])).hexdigest())\n",
    "    return List_result  "
   ]
  },
  {
   "cell_type": "code",
   "execution_count": 155,
   "metadata": {
    "collapsed": true
   },
   "outputs": [],
   "source": [
    "## This function allow us to add an element L in the dictionnary Dict at the position i\n",
    "def Add_list(L,Dict,i):\n",
    "    Dict[str(i)]=L\n",
    "    return Dict"
   ]
  },
  {
   "cell_type": "code",
   "execution_count": 156,
   "metadata": {
    "collapsed": false
   },
   "outputs": [],
   "source": [
    "#Give the hash of the concatenation of H1 and H2.\n",
    "def Add_and_hash(H1,H2):\n",
    "    return sha256(str(hashThis_int(H1)+hashThis_int(H2))).hexdigest()"
   ]
  },
  {
   "cell_type": "code",
   "execution_count": 157,
   "metadata": {
    "collapsed": true
   },
   "outputs": [],
   "source": [
    "# This code allow us to build the Merkle tree\n",
    "def Merkle_tree(L):\n",
    "    j=2\n",
    "    Dict={}\n",
    "    Check_data_len(L)\n",
    "    Dict[str(0)]=L\n",
    "    L1=Return_Hashlist(L)\n",
    "    Add_list(L1,Dict,1)\n",
    "    while j<=int(log(len(L))/log(2)+1):\n",
    "        Lis=[]\n",
    "        for i in range(((len(L1)-1)//2)+1):\n",
    "            Lis.append(Add_and_hash(L1[2*i],L1[2*i+1]))\n",
    "        Add_list(Lis,Dict,j) \n",
    "        L1=Lis\n",
    "        j+=1  \n",
    "    return Dict"
   ]
  },
  {
   "cell_type": "code",
   "execution_count": 158,
   "metadata": {
    "collapsed": false
   },
   "outputs": [],
   "source": [
    "d=Merkle_tree(L1)"
   ]
  },
  {
   "cell_type": "code",
   "execution_count": 159,
   "metadata": {
    "collapsed": false
   },
   "outputs": [
    {
     "data": {
      "text/plain": [
       "{'0': [1, 2, 3, 4, 5, 6, 7, 8],\n",
       " '1': ['6b86b273ff34fce19d6b804eff5a3f5747ada4eaa22f1d49c01e52ddb7875b4b',\n",
       "  'd4735e3a265e16eee03f59718b9b5d03019c07d8b6c51f90da3a666eec13ab35',\n",
       "  '4e07408562bedb8b60ce05c1decfe3ad16b72230967de01f640b7e4729b49fce',\n",
       "  '4b227777d4dd1fc61c6f884f48641d02b4d121d3fd328cb08b5531fcacdabf8a',\n",
       "  'ef2d127de37b942baad06145e54b0c619a1f22327b2ebbcfbec78f5564afe39d',\n",
       "  'e7f6c011776e8db7cd330b54174fd76f7d0216b612387a5ffcfb81e6f0919683',\n",
       "  '7902699be42c8a8e46fbbb4501726517e86b22c56a189f7625a6da49081b2451',\n",
       "  '2c624232cdd221771294dfbb310aca000a0df6ac8b66b696d90ef06fdefb64a3'],\n",
       " '2': ['c689ef2d1ae9415ba75a468f031b0b5dbd1907c54afc1284e721ba9eb88cd053',\n",
       "  '58d6bf2106bbfe0ef3e589024ef0db8a419ef13a839e272e50283c5b44894ecc',\n",
       "  '4866a90594d0bf41bf162074671fbefe7840308a1e8b44571b858faf53161554',\n",
       "  'a69e223e110f10dac552b6730debea2f814df450bdc7533467caf78f10df2a0c'],\n",
       " '3': ['0a6d319ba3f32265b55b2286ab08e62788508ed3ee50136fdab3a84098eb0c67',\n",
       "  'fc045d72cb6e2333159f084c1dd677d75f058df4570d09ec80e90b945fc74d27'],\n",
       " '4': ['a3f49b0543fca4792957ce7a36a63b46c92a4aa5990dd9e543c9a24209bc574a']}"
      ]
     },
     "execution_count": 159,
     "metadata": {},
     "output_type": "execute_result"
    }
   ],
   "source": [
    "d"
   ]
  },
  {
   "cell_type": "code",
   "execution_count": 160,
   "metadata": {
    "collapsed": false
   },
   "outputs": [],
   "source": [
    "def Return_Elt(d,e):\n",
    "    list_ = [] \n",
    "    A=d[str(int((log(len(d[str(0)]))/log(2))+1))]\n",
    "    if e not in d[str(0)]:\n",
    "        print(\"{} n appartient pas a la liste\".format(e))\n",
    "    else:\n",
    "        index = d[str(0)].index(e)\n",
    "        if index%2==0:\n",
    "            list_.append(d[str(1)][index])\n",
    "            list_.append(d[str(1)][index+1])\n",
    "            s = d[str(1)][index]\n",
    "            t = d[str(1)][index+1]\n",
    "        else:\n",
    "            list_.append(d[str(1)][index-1])\n",
    "            list_.append(d[str(1)][index])\n",
    "            s = d[str(1)][index-1]\n",
    "            t = d[str(1)][index]\n",
    "        for i in range(2,int((log(len(d[str(0)]))/log(2)))+1):\n",
    "            hach = Add_and_hash(s,t)\n",
    "            index = d[str(i)].index(hach)\n",
    "            if index%2==0:  \n",
    "                list_.append(d[str(i)][index+1])\n",
    "                s = d[str(i)][index]\n",
    "                t = d[str(i)][index+1]\n",
    "            else:\n",
    "                list_.append(d[str(i)][index-1])\n",
    "                s = d[str(i)][index-1]\n",
    "                t = d[str(i)][index]      \n",
    "    return list_,A[0]        "
   ]
  },
  {
   "cell_type": "code",
   "execution_count": 161,
   "metadata": {
    "collapsed": false
   },
   "outputs": [
    {
     "data": {
      "text/plain": [
       "['6b86b273ff34fce19d6b804eff5a3f5747ada4eaa22f1d49c01e52ddb7875b4b',\n",
       " 'd4735e3a265e16eee03f59718b9b5d03019c07d8b6c51f90da3a666eec13ab35',\n",
       " '58d6bf2106bbfe0ef3e589024ef0db8a419ef13a839e272e50283c5b44894ecc',\n",
       " 'fc045d72cb6e2333159f084c1dd677d75f058df4570d09ec80e90b945fc74d27']"
      ]
     },
     "execution_count": 161,
     "metadata": {},
     "output_type": "execute_result"
    }
   ],
   "source": [
    "La,A=Return_Elt(d,1)\n",
    "e=La[0]\n",
    "La"
   ]
  },
  {
   "cell_type": "code",
   "execution_count": 162,
   "metadata": {
    "collapsed": false
   },
   "outputs": [
    {
     "data": {
      "text/plain": [
       "True"
      ]
     },
     "execution_count": 162,
     "metadata": {},
     "output_type": "execute_result"
    }
   ],
   "source": [
    "\n",
    "def Check_Membership(L,e,A):\n",
    "    if e not in L:\n",
    "        print('{} n appartient pas a l arbre'.format(e))\n",
    "    else:    \n",
    "        a = L[0]\n",
    "        for i in range(1,len(L)):\n",
    "            b = L[i]\n",
    "            a = Add_and_hash(a,b)\n",
    "        if a == A:\n",
    "            return  True\n",
    "        else:\n",
    "            return  False\n",
    "Check_Membership(La,e,A)"
   ]
  },
  {
   "cell_type": "code",
   "execution_count": 163,
   "metadata": {
    "collapsed": false
   },
   "outputs": [
    {
     "data": {
      "text/plain": [
       "True"
      ]
     },
     "execution_count": 163,
     "metadata": {},
     "output_type": "execute_result"
    }
   ],
   "source": [
    "def Check_Membership2(L,e,A):\n",
    "    a = L[0]\n",
    "    for i in range(1,len(L)):\n",
    "        b = L[i]\n",
    "        a = Add_and_hash(a,b)\n",
    "    if a == A:\n",
    "        return  True\n",
    "    else:\n",
    "        return  False\n",
    "Check_Membership2(La,e,A)"
   ]
  },
  {
   "cell_type": "code",
   "execution_count": 164,
   "metadata": {
    "collapsed": false
   },
   "outputs": [],
   "source": [
    "#This code check the type of x and convert it into interger\n",
    "def Convert_to_interger(x,q,d):\n",
    "    if type(x)==str and x in d[str(0)]:\n",
    "        x=hashThis_int(x)%q\n",
    "    elif type(x)!=str and x in d[str(0)] :\n",
    "        x=x\n",
    "    else:\n",
    "        print('{} n appartient pas a l arbre'.format(x))\n",
    "    #break\n",
    "    return x    "
   ]
  },
  {
   "cell_type": "code",
   "execution_count": 165,
   "metadata": {
    "collapsed": false
   },
   "outputs": [
    {
     "data": {
      "text/plain": [
       "4"
      ]
     },
     "execution_count": 165,
     "metadata": {},
     "output_type": "execute_result"
    }
   ],
   "source": [
    "Convert_to_interger(4,5,d)"
   ]
  },
  {
   "cell_type": "code",
   "execution_count": 166,
   "metadata": {
    "collapsed": true
   },
   "outputs": [],
   "source": [
    "## Check if the number is prime or not\n",
    "def Is_prime(p):\n",
    "    result=[]\n",
    "    j=0\n",
    "    for i in range(1,p+1):\n",
    "        if p%i==0:\n",
    "            j+=1\n",
    "    if j==2:\n",
    "        return True\n",
    "    return False "
   ]
  },
  {
   "cell_type": "code",
   "execution_count": 167,
   "metadata": {
    "collapsed": true
   },
   "outputs": [],
   "source": [
    "def verifier_challenge(p):\n",
    "    if Is_prime(p):\n",
    "        return random.randint(1,p-1)\n",
    "    print(\"Veillez etrer un nombre premier!!!!\")"
   ]
  },
  {
   "cell_type": "code",
   "execution_count": 168,
   "metadata": {
    "collapsed": false
   },
   "outputs": [
    {
     "data": {
      "text/plain": [
       "[('a3f49b0543fca4792957ce7a36a63b46c92a4aa5990dd9e543c9a24209bc574a',\n",
       "  '0a6d319ba3f32265b55b2286ab08e62788508ed3ee50136fdab3a84098eb0c67'),\n",
       " ('a3f49b0543fca4792957ce7a36a63b46c92a4aa5990dd9e543c9a24209bc574a',\n",
       "  'fc045d72cb6e2333159f084c1dd677d75f058df4570d09ec80e90b945fc74d27'),\n",
       " ('0a6d319ba3f32265b55b2286ab08e62788508ed3ee50136fdab3a84098eb0c67',\n",
       "  'c689ef2d1ae9415ba75a468f031b0b5dbd1907c54afc1284e721ba9eb88cd053'),\n",
       " ('0a6d319ba3f32265b55b2286ab08e62788508ed3ee50136fdab3a84098eb0c67',\n",
       "  '58d6bf2106bbfe0ef3e589024ef0db8a419ef13a839e272e50283c5b44894ecc'),\n",
       " ('fc045d72cb6e2333159f084c1dd677d75f058df4570d09ec80e90b945fc74d27',\n",
       "  '4866a90594d0bf41bf162074671fbefe7840308a1e8b44571b858faf53161554'),\n",
       " ('fc045d72cb6e2333159f084c1dd677d75f058df4570d09ec80e90b945fc74d27',\n",
       "  'a69e223e110f10dac552b6730debea2f814df450bdc7533467caf78f10df2a0c'),\n",
       " ('c689ef2d1ae9415ba75a468f031b0b5dbd1907c54afc1284e721ba9eb88cd053',\n",
       "  '6b86b273ff34fce19d6b804eff5a3f5747ada4eaa22f1d49c01e52ddb7875b4b'),\n",
       " ('c689ef2d1ae9415ba75a468f031b0b5dbd1907c54afc1284e721ba9eb88cd053',\n",
       "  'd4735e3a265e16eee03f59718b9b5d03019c07d8b6c51f90da3a666eec13ab35'),\n",
       " ('58d6bf2106bbfe0ef3e589024ef0db8a419ef13a839e272e50283c5b44894ecc',\n",
       "  '4e07408562bedb8b60ce05c1decfe3ad16b72230967de01f640b7e4729b49fce'),\n",
       " ('58d6bf2106bbfe0ef3e589024ef0db8a419ef13a839e272e50283c5b44894ecc',\n",
       "  '4b227777d4dd1fc61c6f884f48641d02b4d121d3fd328cb08b5531fcacdabf8a'),\n",
       " ('4866a90594d0bf41bf162074671fbefe7840308a1e8b44571b858faf53161554',\n",
       "  'ef2d127de37b942baad06145e54b0c619a1f22327b2ebbcfbec78f5564afe39d'),\n",
       " ('4866a90594d0bf41bf162074671fbefe7840308a1e8b44571b858faf53161554',\n",
       "  'e7f6c011776e8db7cd330b54174fd76f7d0216b612387a5ffcfb81e6f0919683'),\n",
       " ('a69e223e110f10dac552b6730debea2f814df450bdc7533467caf78f10df2a0c',\n",
       "  '7902699be42c8a8e46fbbb4501726517e86b22c56a189f7625a6da49081b2451'),\n",
       " ('a69e223e110f10dac552b6730debea2f814df450bdc7533467caf78f10df2a0c',\n",
       "  '2c624232cdd221771294dfbb310aca000a0df6ac8b66b696d90ef06fdefb64a3'),\n",
       " ('6b86b273ff34fce19d6b804eff5a3f5747ada4eaa22f1d49c01e52ddb7875b4b', 1),\n",
       " ('d4735e3a265e16eee03f59718b9b5d03019c07d8b6c51f90da3a666eec13ab35', 2),\n",
       " ('4e07408562bedb8b60ce05c1decfe3ad16b72230967de01f640b7e4729b49fce', 3),\n",
       " ('4b227777d4dd1fc61c6f884f48641d02b4d121d3fd328cb08b5531fcacdabf8a', 4),\n",
       " ('ef2d127de37b942baad06145e54b0c619a1f22327b2ebbcfbec78f5564afe39d', 5),\n",
       " ('e7f6c011776e8db7cd330b54174fd76f7d0216b612387a5ffcfb81e6f0919683', 6),\n",
       " ('7902699be42c8a8e46fbbb4501726517e86b22c56a189f7625a6da49081b2451', 7),\n",
       " ('2c624232cdd221771294dfbb310aca000a0df6ac8b66b696d90ef06fdefb64a3', 8)]"
      ]
     },
     "execution_count": 168,
     "metadata": {},
     "output_type": "execute_result"
    }
   ],
   "source": [
    "resul=[]\n",
    "n=int(log(len(d[str(0)]))/log(2))+1\n",
    "for j in range(n,1,-1):\n",
    "    for i in range(len(d[str(j)])):\n",
    "        if i==0:\n",
    "            resul.append((d[str(j)][i],(d[str(j-1)][i])))\n",
    "            resul.append((d[str(j)][i],(d[str(j-1)][i+1])))\n",
    "        else:\n",
    "            resul.append((d[str(j)][i],(d[str(j-1)][2*i])))\n",
    "            resul.append((d[str(j)][i],(d[str(j-1)][2*i+1])))\n",
    "for k in range(len(d[str(0)])):\n",
    "    resul.append((d[str(1)][k],(d[str(0)][k])))\n",
    "resul            "
   ]
  },
  {
   "cell_type": "code",
   "execution_count": 169,
   "metadata": {
    "collapsed": true
   },
   "outputs": [],
   "source": [
    "def Split_tree_into_node1(d):\n",
    "    resul1=[]\n",
    "    n=int(log(len(d[str(0)]))/log(2))+1\n",
    "    for j in range(n,1,-1):\n",
    "        for i in range(len(d[str(j)])):\n",
    "            if i==0:\n",
    "                resul1.append((d[str(j)][i],(d[str(j-1)][i])))\n",
    "                resul1.append((d[str(j)][i],(d[str(j-1)][i+1])))\n",
    "            else:\n",
    "                resul1.append((d[str(j)][i],(d[str(j-1)][2*i])))\n",
    "                resul1.append((d[str(j)][i],(d[str(j-1)][2*i+1])))\n",
    "    for k in range(len(d[str(0)])):\n",
    "        resul.append((d[str(1)][k],(d[str(0)][k])))\n",
    "    return resul "
   ]
  },
  {
   "cell_type": "code",
   "execution_count": 170,
   "metadata": {
    "collapsed": false,
    "scrolled": true
   },
   "outputs": [
    {
     "data": {
      "image/png": "[encoded data removed]",
      "text/plain": [
       "<matplotlib.figure.Figure at 0x7fdf0e920890>"
      ]
     },
     "metadata": {},
     "output_type": "display_data"
    }
   ],
   "source": [
    "def main():\n",
    "        # Create a directed graph\n",
    "        G = nx.DiGraph()\n",
    "        Edges=resul #[(\"h1234\",\"h12\"),(\"h1234\",\"h34\"),(\"h12\",\"h1\"),(\"h12\",\"h2\"),(\"h34\",\"h3\"),(\"h34\",\"h4\")]\n",
    "       \n",
    "        # Build up a graph\n",
    "        for t in Edges:\n",
    "            G.add_edge(t[0], t[1])\n",
    "     \n",
    "        # Plot trees\n",
    "        pos=graphviz_layout(G, prog='dot')\n",
    "        nx.draw(G, pos, with_labels=True, arrows=False)\n",
    "     \n",
    "        plt.savefig('draw_trees_with_pygraphviz.png', bbox_inches='tight')   \n",
    "        plt.show()\n",
    "main()"
   ]
  },
  {
   "cell_type": "code",
   "execution_count": 171,
   "metadata": {
    "collapsed": false
   },
   "outputs": [],
   "source": [
    "nx.draw?"
   ]
  },
  {
   "cell_type": "code",
   "execution_count": 123,
   "metadata": {
    "collapsed": true
   },
   "outputs": [],
   "source": [
    "p=5\n",
    "h=2\n",
    "g=3\n",
    "q=3\n",
    "#x=12\n",
    "r=3"
   ]
  },
  {
   "cell_type": "code",
   "execution_count": 124,
   "metadata": {
    "collapsed": false
   },
   "outputs": [],
   "source": [
    "# This is the prover algorithm\n",
    "def prover(q,g,h,x,r,d):\n",
    "    if not Is_prime(q):\n",
    "        print('{} n est pas premier!!!!'.format(q))\n",
    "    else: \n",
    "        x=Convert_to_interger(x,q,d)\n",
    "        C=pow(g,x)*pow(h,r)\n",
    "        k=random.randint(1,q-1)\n",
    "        t=random.randint(1,q-1)    \n",
    "        #c=random.randint(1,q-1)\n",
    "        c=verifier_challenge(p)    ## this is the challenge\n",
    "        R=int(pow(g,k)*pow(h,t))\n",
    "        print(k,t,c)\n",
    "        z=k-c*x\n",
    "        y=t-c*r\n",
    "        pi,A=Return_Elt(d,x) ## d represent the Merkle tree\n",
    "        elt=sha256(str(x)).hexdigest()\n",
    "    return C,c,z,y,R,pi,A,elt"
   ]
  },
  {
   "cell_type": "code",
   "execution_count": 172,
   "metadata": {
    "collapsed": false
   },
   "outputs": [
    {
     "name": "stdout",
     "output_type": "stream",
     "text": [
      "(1, 1, 3)\n"
     ]
    },
    {
     "data": {
      "text/plain": [
       "(1944.0,\n",
       " 3,\n",
       " -14,\n",
       " -8,\n",
       " 6,\n",
       " ['ef2d127de37b942baad06145e54b0c619a1f22327b2ebbcfbec78f5564afe39d',\n",
       "  'e7f6c011776e8db7cd330b54174fd76f7d0216b612387a5ffcfb81e6f0919683',\n",
       "  'a69e223e110f10dac552b6730debea2f814df450bdc7533467caf78f10df2a0c',\n",
       "  '0a6d319ba3f32265b55b2286ab08e62788508ed3ee50136fdab3a84098eb0c67'],\n",
       " 'a3f49b0543fca4792957ce7a36a63b46c92a4aa5990dd9e543c9a24209bc574a',\n",
       " 'ef2d127de37b942baad06145e54b0c619a1f22327b2ebbcfbec78f5564afe39d')"
      ]
     },
     "execution_count": 172,
     "metadata": {},
     "output_type": "execute_result"
    }
   ],
   "source": [
    "C,c,z,y,R,pi,A,elt=prover(3,3,2,5,3,d)\n",
    "C,c,z,y,R,pi,A,elt"
   ]
  },
  {
   "cell_type": "code",
   "execution_count": 173,
   "metadata": {
    "collapsed": false
   },
   "outputs": [],
   "source": [
    "# this is the verifier Algorithm\n",
    "def verifier(C,c,z,y,R,pi,A,elt,g,h):\n",
    "    r=int(pow(C,c)*pow(g,z)*pow(h,y))\n",
    "    bol=Check_Membership(pi,elt,A)\n",
    "    print(r,R)\n",
    "    if (R==r and bol==True):\n",
    "        \n",
    "        return True\n",
    "    return False"
   ]
  },
  {
   "cell_type": "code",
   "execution_count": 174,
   "metadata": {
    "collapsed": false
   },
   "outputs": [
    {
     "name": "stdout",
     "output_type": "stream",
     "text": [
      "(6, 6)\n"
     ]
    },
    {
     "data": {
      "text/plain": [
       "True"
      ]
     },
     "execution_count": 174,
     "metadata": {},
     "output_type": "execute_result"
    }
   ],
   "source": [
    "verifier(C,c,z,y,R,pi,A,elt,g,h)"
   ]
  },
  {
   "cell_type": "code",
   "execution_count": 175,
   "metadata": {
    "collapsed": false
   },
   "outputs": [
    {
     "name": "stdout",
     "output_type": "stream",
     "text": [
      "(21, 14, 2)\n",
      "(171382426877952, 171382426877952)\n",
      "L element ef2d127de37b942baad06145e54b0c619a1f22327b2ebbcfbec78f5564afe39d appartient a Data\n"
     ]
    }
   ],
   "source": [
    "def __main__():\n",
    "    \n",
    "    p=51\n",
    "    h=2\n",
    "    g=3\n",
    "    q=31\n",
    "    x=5\n",
    "    r=3\n",
    "    Data= d\n",
    "    C,c,z,y,R,pi,A,elt=prover(q,g,h,x,r,d)\n",
    "    \n",
    "    if verifier(C,c,z,y,R,pi,A,elt,g,h)==True:\n",
    "        print(\"L element {} appartient a Data\".format(elt))\n",
    "    else:\n",
    "        print(\"L element {} n'appartient a Data\".format(elt))\n",
    "__main__()"
   ]
  },
  {
   "cell_type": "markdown",
   "metadata": {},
   "source": [
    "# End of Demo"
   ]
  },
  {
   "cell_type": "code",
   "execution_count": null,
   "metadata": {
    "collapsed": true
   },
   "outputs": [],
   "source": []
  }
 ],
 "metadata": {
  "kernelspec": {
   "display_name": "Python 2",
   "language": "python",
   "name": "python2"
  },
  "language_info": {
   "codemirror_mode": {
    "name": "ipython",
    "version": 2
   },
   "file_extension": ".py",
   "mimetype": "text/x-python",
   "name": "python",
   "nbconvert_exporter": "python",
   "pygments_lexer": "ipython2",
   "version": "2.7.13"
  }
 },
 "nbformat": 4,
 "nbformat_minor": 2
}
