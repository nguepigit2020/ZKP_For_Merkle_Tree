{
 "cells": [
  {
   "cell_type": "markdown",
   "metadata": {},
   "source": [
    "<h1 align=center> Implementation of ZKP for Merkle tree Using Python</h1>"
   ]
  },
  {
   "cell_type": "markdown",
   "metadata": {},
   "source": [
    "."
   ]
  },
  {
   "cell_type": "code",
   "execution_count": 251,
   "metadata": {
    "collapsed": true
   },
   "outputs": [],
   "source": [
    "from hashlib import*\n",
    "from math import*\n",
    "from csv import *\n",
    "from hashlib import * \n",
    "import os\n",
    "import random"
   ]
  },
  {
   "cell_type": "code",
   "execution_count": 252,
   "metadata": {
    "collapsed": true
   },
   "outputs": [],
   "source": [
    "L=[1,2,3,4,5,6,7,8,9,10,11,12,13,14,15,16,17,18,19,20,\"Nguepi\",\"Nguefack\",\"Tondji\"]\n",
    "L1=[1,2,3,4]\n"
   ]
  },
  {
   "cell_type": "code",
   "execution_count": 253,
   "metadata": {
    "collapsed": true
   },
   "outputs": [],
   "source": [
    "# This code allow us to integer hash  \n",
    "def hashThis_int(M):\n",
    "    r=0\n",
    "    hash=sha256();\n",
    "    hash.update(str(r).encode());\n",
    "    hash.update(M.encode());\n",
    "    return int(hash.hexdigest(),16);"
   ]
  },
  {
   "cell_type": "code",
   "execution_count": 254,
   "metadata": {
    "collapsed": false
   },
   "outputs": [
    {
     "data": {
      "text/plain": [
       "98308941888556364773191993917330179511595787205275262433735289253208501263596L"
      ]
     },
     "execution_count": 254,
     "metadata": {},
     "output_type": "execute_result"
    }
   ],
   "source": [
    "hashThis(\"Nguefack\")"
   ]
  },
  {
   "cell_type": "code",
   "execution_count": 255,
   "metadata": {
    "collapsed": true
   },
   "outputs": [],
   "source": [
    "## Check if the number is the power of two or not.\n",
    "def Check_power_two(x):\n",
    "    n=log(x)/log(2)\n",
    "    if n.is_integer():\n",
    "        return True\n",
    "    return False"
   ]
  },
  {
   "cell_type": "code",
   "execution_count": 256,
   "metadata": {
    "collapsed": true
   },
   "outputs": [],
   "source": [
    "#This function transform the content of csv file into a list.\n",
    "def Transform_csv_file_on_list(filePath):\n",
    "    filePath = '/home/nguepi/Bureau/Test.csv'\n",
    "    \n",
    "    fileOpen = open(filePath, 'rU')\n",
    "    # opening the file for reading in Universal NewLine (rU) \n",
    "\n",
    "    fileReader = reader(fileOpen)\n",
    "    # initializing the CSV Reader for traversing data inside the csv file\n",
    "\n",
    "    data_list = []\n",
    "    for row in fileReader :\n",
    "\n",
    "        for tnx in row :\n",
    "\n",
    "            currentItem = str(tnx)\n",
    "            data_list.append(currentItem)\n",
    "    return data_list"
   ]
  },
  {
   "cell_type": "code",
   "execution_count": 257,
   "metadata": {
    "collapsed": false
   },
   "outputs": [
    {
     "data": {
      "text/plain": [
       "['nguepi',\n",
       " 'nguepi',\n",
       " 'nguepi',\n",
       " 'nguepi',\n",
       " 'nguepi',\n",
       " 'nguepi',\n",
       " 'nguepi',\n",
       " 'nguepi',\n",
       " 'nguepi',\n",
       " 'nguepi',\n",
       " 'nguepi',\n",
       " 'idriss',\n",
       " 'idriss',\n",
       " 'idriss',\n",
       " 'idriss',\n",
       " 'idriss',\n",
       " 'idriss',\n",
       " 'idriss',\n",
       " 'idriss',\n",
       " 'idriss',\n",
       " 'idriss',\n",
       " 'idriss',\n",
       " 'idriss',\n",
       " 'nguefack',\n",
       " 'nguefack',\n",
       " 'nguefack',\n",
       " 'nguefack',\n",
       " 'nguefack',\n",
       " 'nguefack',\n",
       " 'nguefack',\n",
       " 'nguefack',\n",
       " 'nguefack']"
      ]
     },
     "execution_count": 257,
     "metadata": {},
     "output_type": "execute_result"
    }
   ],
   "source": [
    "filePath = '/home/nguepi/Bureau/Test.csv'\n",
    "Transform_csv_file_on_list(filePath)"
   ]
  },
  {
   "cell_type": "code",
   "execution_count": 258,
   "metadata": {
    "collapsed": true
   },
   "outputs": [],
   "source": [
    "## This function allow us to solve padding probleme.\n",
    "def Check_data_len(L):\n",
    "    while Check_power_two(len(L))==False:\n",
    "        L.append(random.randrange(0, 10000, 1))\n",
    "    return L       "
   ]
  },
  {
   "cell_type": "code",
   "execution_count": 259,
   "metadata": {
    "collapsed": true
   },
   "outputs": [],
   "source": [
    "## This function allow us to hash all the elements of the list L \n",
    "def Return_Hashlist(L):\n",
    "    List_result=[]\n",
    "    for i in range(len(L)):\n",
    "        List_result.append(sha256(str(L[i])).hexdigest())\n",
    "    return List_result  "
   ]
  },
  {
   "cell_type": "code",
   "execution_count": 260,
   "metadata": {
    "collapsed": true
   },
   "outputs": [],
   "source": [
    "## This function allow us to add an element L in the dictionnary Dict at the position i\n",
    "def Add_list(L,Dict,i):\n",
    "    Dict[str(i)]=L\n",
    "    return Dict"
   ]
  },
  {
   "cell_type": "code",
   "execution_count": 261,
   "metadata": {
    "collapsed": false
   },
   "outputs": [],
   "source": [
    "#Give the hash of the concatenation of H1 and H2.\n",
    "def Add_and_hash(H1,H2):\n",
    "    return sha256(str(hashThis_int(H1)+hashThis_int(H2))).hexdigest()"
   ]
  },
  {
   "cell_type": "code",
   "execution_count": 262,
   "metadata": {
    "collapsed": true
   },
   "outputs": [],
   "source": [
    "# This code allow us to build the Merkle tree\n",
    "def Merkle_tree(L):\n",
    "    j=2\n",
    "    Dict={}\n",
    "    Check_data_len(L)\n",
    "    Dict[str(0)]=L\n",
    "    L1=Return_Hashlist(L)\n",
    "    Add_list(L1,Dict,1)\n",
    "    while j<=int(log(len(L))/log(2)+1):\n",
    "        Lis=[]\n",
    "        for i in range(((len(L1)-1)//2)+1):\n",
    "            Lis.append(Add_and_hash(L1[2*i],L1[2*i+1]))\n",
    "        Add_list(Lis,Dict,j) \n",
    "        L1=Lis\n",
    "        j+=1  \n",
    "    return Dict"
   ]
  },
  {
   "cell_type": "code",
   "execution_count": 263,
   "metadata": {
    "collapsed": false
   },
   "outputs": [],
   "source": [
    "d=Merkle_tree(L)"
   ]
  },
  {
   "cell_type": "code",
   "execution_count": 264,
   "metadata": {
    "collapsed": false
   },
   "outputs": [
    {
     "data": {
      "text/plain": [
       "{'0': [1,\n",
       "  2,\n",
       "  3,\n",
       "  4,\n",
       "  5,\n",
       "  6,\n",
       "  7,\n",
       "  8,\n",
       "  9,\n",
       "  10,\n",
       "  11,\n",
       "  12,\n",
       "  13,\n",
       "  14,\n",
       "  15,\n",
       "  16,\n",
       "  17,\n",
       "  18,\n",
       "  19,\n",
       "  20,\n",
       "  'Nguepi',\n",
       "  'Nguefack',\n",
       "  'Tondji',\n",
       "  39,\n",
       "  8372,\n",
       "  4745,\n",
       "  2827,\n",
       "  2703,\n",
       "  980,\n",
       "  2598,\n",
       "  8688,\n",
       "  4284],\n",
       " '1': ['6b86b273ff34fce19d6b804eff5a3f5747ada4eaa22f1d49c01e52ddb7875b4b',\n",
       "  'd4735e3a265e16eee03f59718b9b5d03019c07d8b6c51f90da3a666eec13ab35',\n",
       "  '4e07408562bedb8b60ce05c1decfe3ad16b72230967de01f640b7e4729b49fce',\n",
       "  '4b227777d4dd1fc61c6f884f48641d02b4d121d3fd328cb08b5531fcacdabf8a',\n",
       "  'ef2d127de37b942baad06145e54b0c619a1f22327b2ebbcfbec78f5564afe39d',\n",
       "  'e7f6c011776e8db7cd330b54174fd76f7d0216b612387a5ffcfb81e6f0919683',\n",
       "  '7902699be42c8a8e46fbbb4501726517e86b22c56a189f7625a6da49081b2451',\n",
       "  '2c624232cdd221771294dfbb310aca000a0df6ac8b66b696d90ef06fdefb64a3',\n",
       "  '19581e27de7ced00ff1ce50b2047e7a567c76b1cbaebabe5ef03f7c3017bb5b7',\n",
       "  '4a44dc15364204a80fe80e9039455cc1608281820fe2b24f1e5233ade6af1dd5',\n",
       "  '4fc82b26aecb47d2868c4efbe3581732a3e7cbcc6c2efb32062c08170a05eeb8',\n",
       "  '6b51d431df5d7f141cbececcf79edf3dd861c3b4069f0b11661a3eefacbba918',\n",
       "  '3fdba35f04dc8c462986c992bcf875546257113072a909c162f7e470e581e278',\n",
       "  '8527a891e224136950ff32ca212b45bc93f69fbb801c3b1ebedac52775f99e61',\n",
       "  'e629fa6598d732768f7c726b4b621285f9c3b85303900aa912017db7617d8bdb',\n",
       "  'b17ef6d19c7a5b1ee83b907c595526dcb1eb06db8227d650d5dda0a9f4ce8cd9',\n",
       "  '4523540f1504cd17100c4835e85b7eefd49911580f8efff0599a8f283be6b9e3',\n",
       "  '4ec9599fc203d176a301536c2e091a19bc852759b255bd6818810a42c5fed14a',\n",
       "  '9400f1b21cb527d7fa3d3eabba93557a18ebe7a2ca4e471cfe5e4c5b4ca7f767',\n",
       "  'f5ca38f748a1d6eaf726b8a42fb575c3c71f1864a8143301782de13da2d9202b',\n",
       "  'e21ec6bfc717c9a812c2f7b1421ff0ee0cc03d57ff3df554abe30b09741f8d19',\n",
       "  '54868ac01036097129524afef9375822015ec03a0d934734e6f42966c0f9aa6a',\n",
       "  '8811fcef8213248d6df935505f3a68b4ffacc04436354703e30fc25b3040b3dc',\n",
       "  '0b918943df0962bc7a1824c0555a389347b4febdc7cf9d1254406d80ce44e3f9',\n",
       "  'ea7fa9e4cbadf19469998096bf8d187c62235aed45c125a25d5541efe249ad3d',\n",
       "  '3baf3ab2c95ce1d8311053c81348ad1fdc3a5f56adaa6938abe31afbc9300848',\n",
       "  '5395e1ae8455cd547ea5604debe13e62a1407ce44e55ddf7dc2afd3c221b364e',\n",
       "  'f038ba9c0704d9592982863a3f42f4e65fddb98de431555e9af55d099d779425',\n",
       "  '38879b6376fbabdc8fbfb85f6b11a296aca6de14093a54881b73528b62848d8c',\n",
       "  '893cb5b1a02d4dcada2c464508cc4e47b86f8f21185b6032d5a12cb3f1e4541a',\n",
       "  '3b29bbd4908a8c52f5a2cfd69c6ad4382450d7e46a68f6cefa93062c133e2800',\n",
       "  '1ce7bdf71376bafe03ac77bdbc692d33f8f5a92927186880c72729b96c03f9e4'],\n",
       " '2': ['c689ef2d1ae9415ba75a468f031b0b5dbd1907c54afc1284e721ba9eb88cd053',\n",
       "  '58d6bf2106bbfe0ef3e589024ef0db8a419ef13a839e272e50283c5b44894ecc',\n",
       "  '4866a90594d0bf41bf162074671fbefe7840308a1e8b44571b858faf53161554',\n",
       "  'a69e223e110f10dac552b6730debea2f814df450bdc7533467caf78f10df2a0c',\n",
       "  '5c4ce7f346bff28d1ddddd1acaaac0a68c9271736c4c16ab1ff457a8a28bf90d',\n",
       "  'e3c498dffd45ef91a570c90efbbaaece19460e3e33053ba28c1e6631b5bf70c1',\n",
       "  'b60b5791504acf1bb624635069f906e3a85230fa049dcade451328ab171c279f',\n",
       "  '0a9ec82eb0c1c458bd34f2a72853f7a6326726d2c409856878904669b8c3b881',\n",
       "  'a34b2f2ed11ab8a89ae1a286e9f869b608de5c7f3fa9e2055978629798a833ae',\n",
       "  'd4874a315425ded7346a2ac52a62da2730c68a1bdb1a975bb36546390126c7fa',\n",
       "  'd9fbc54656c07aada68bd12ea287683ae096f8dda0a4e96e60ebb75513a4109e',\n",
       "  '2e24025210cf1afa4a82eb4039d938ccc8b3ca220cde424c03a3486c9f2b9e14',\n",
       "  'fddee5943c8ea2b856d2655970dc33f758bffc4c98ba466d308e75174a586071',\n",
       "  '1ced03e135ac2dc2c6991e83960c562a28008b8373d011a50ebd69e6b6752cf8',\n",
       "  '309fab74f7230cf869329d4bf22225ec2e2632bb14bae0dc74d8f743a0ca59f3',\n",
       "  '66a4d566fda212b1b7ac9f894bd4369dc4617343450adb202dc5988e668715c2'],\n",
       " '3': ['0a6d319ba3f32265b55b2286ab08e62788508ed3ee50136fdab3a84098eb0c67',\n",
       "  'fc045d72cb6e2333159f084c1dd677d75f058df4570d09ec80e90b945fc74d27',\n",
       "  'f536192675783d67b6127b9bfcaa48248bf8c462ec09d8424aaa552b6ff4a80d',\n",
       "  '69d937ccbf7a438ad182fa3a32a41cf3c39fe5b5a260b675385b7d98db7d990a',\n",
       "  '0894fe68eea6b621bdbd4f505caeeeb45a290b27c1b687f69cd1e236193c3902',\n",
       "  '359ba1080b1849e935126f4f25906d60ef9f66502a58692d22af978c795dd5c8',\n",
       "  'c86ba3ca24a2e4de5de3b86dbc22d456d9c791d4ef25ecb465a4a3ee62045058',\n",
       "  'd698791f21ca83758062902a7d11a2dd4ee03551a5b83121dc0c2fd46d7d9d06'],\n",
       " '4': ['a3f49b0543fca4792957ce7a36a63b46c92a4aa5990dd9e543c9a24209bc574a',\n",
       "  '7ffe87e849a349d244fe832b218e4d7f13368cac44eef06937e318c6651c4880',\n",
       "  'aeb4233ea0d100a00e19649003ab97a0674e7fe03a1471795f1f356a466368e4',\n",
       "  '485751f3e2c44ea86f7ac7998d2e9a91a8c40c2037fac2f4cfa6640c9803af94'],\n",
       " '5': ['4de21ca37dbe102931deeecae9ef0f959893e061d20628e259dd61314ca874c2',\n",
       "  '24bcdbf397bbb8f1455cb74f95f02a4b917fad8a82bf3b9687d6a3d020f401c2'],\n",
       " '6': ['84edd5c19e08390dc2c201722fe1df5194677c69230c24987db2769438900989']}"
      ]
     },
     "execution_count": 264,
     "metadata": {},
     "output_type": "execute_result"
    }
   ],
   "source": [
    "d"
   ]
  },
  {
   "cell_type": "code",
   "execution_count": 265,
   "metadata": {
    "collapsed": false
   },
   "outputs": [],
   "source": [
    "def Return_Elt(d,e):\n",
    "    list_ = [] \n",
    "    A=d[str(int((log(len(d[str(0)]))/log(2))+1))]\n",
    "    if e not in d[str(0)]:\n",
    "        print(\"{} n appartient pas a la liste\".format(e))\n",
    "    else:\n",
    "        index = d[str(0)].index(e)\n",
    "        if index%2==0:\n",
    "            list_.append(d[str(1)][index])\n",
    "            list_.append(d[str(1)][index+1])\n",
    "            s = d[str(1)][index]\n",
    "            t = d[str(1)][index+1]\n",
    "        else:\n",
    "            list_.append(d[str(1)][index-1])\n",
    "            list_.append(d[str(1)][index])\n",
    "            s = d[str(1)][index-1]\n",
    "            t = d[str(1)][index]\n",
    "        for i in range(2,int((log(len(d[str(0)]))/log(2)))+1):\n",
    "            hach = Add_and_hash(s,t)\n",
    "            index = d[str(i)].index(hach)\n",
    "            if index%2==0:  \n",
    "                list_.append(d[str(i)][index+1])\n",
    "                s = d[str(i)][index]\n",
    "                t = d[str(i)][index+1]\n",
    "            else:\n",
    "                list_.append(d[str(i)][index-1])\n",
    "                s = d[str(i)][index-1]\n",
    "                t = d[str(i)][index]      \n",
    "    return list_,A[0]        "
   ]
  },
  {
   "cell_type": "code",
   "execution_count": 266,
   "metadata": {
    "collapsed": false
   },
   "outputs": [
    {
     "data": {
      "text/plain": [
       "['e629fa6598d732768f7c726b4b621285f9c3b85303900aa912017db7617d8bdb',\n",
       " 'b17ef6d19c7a5b1ee83b907c595526dcb1eb06db8227d650d5dda0a9f4ce8cd9',\n",
       " 'b60b5791504acf1bb624635069f906e3a85230fa049dcade451328ab171c279f',\n",
       " 'f536192675783d67b6127b9bfcaa48248bf8c462ec09d8424aaa552b6ff4a80d',\n",
       " 'a3f49b0543fca4792957ce7a36a63b46c92a4aa5990dd9e543c9a24209bc574a',\n",
       " '24bcdbf397bbb8f1455cb74f95f02a4b917fad8a82bf3b9687d6a3d020f401c2']"
      ]
     },
     "execution_count": 266,
     "metadata": {},
     "output_type": "execute_result"
    }
   ],
   "source": [
    "La,A=Return_Elt(d,15)\n",
    "e=La[0]+'o'\n",
    "La"
   ]
  },
  {
   "cell_type": "code",
   "execution_count": 267,
   "metadata": {
    "collapsed": false
   },
   "outputs": [
    {
     "name": "stdout",
     "output_type": "stream",
     "text": [
      "e629fa6598d732768f7c726b4b621285f9c3b85303900aa912017db7617d8bdbo n appartient pas a l arbre\n"
     ]
    }
   ],
   "source": [
    "\n",
    "def Check_Membership(L,e,A):\n",
    "    if e not in L:\n",
    "        print('{} n appartient pas a l arbre'.format(e))\n",
    "    else:    \n",
    "        a = L[0]\n",
    "        for i in range(1,len(L)):\n",
    "            b = L[i]\n",
    "            a = Add_and_hash(a,b)\n",
    "        if a == A:\n",
    "            return  True\n",
    "        else:\n",
    "            return  False\n",
    "Check_Membership(La,e,A)"
   ]
  },
  {
   "cell_type": "code",
   "execution_count": 268,
   "metadata": {
    "collapsed": true
   },
   "outputs": [],
   "source": [
    "## Check if the number is prime or not\n",
    "def Is_prime(p):\n",
    "    result=[]\n",
    "    j=0\n",
    "    for i in range(1,p+1):\n",
    "        if p%i==0:\n",
    "            j+=1\n",
    "    if j==2:\n",
    "        return True\n",
    "    return False "
   ]
  },
  {
   "cell_type": "code",
   "execution_count": 269,
   "metadata": {
    "collapsed": true
   },
   "outputs": [],
   "source": [
    "def verifier_challenge(p):\n",
    "    if Is_prime(p):\n",
    "        return random.randint(1,p-1)\n",
    "    print(\"Veillez etrer un nombre premier!!!!\")"
   ]
  },
  {
   "cell_type": "code",
   "execution_count": 270,
   "metadata": {
    "collapsed": true
   },
   "outputs": [],
   "source": [
    "### Begin which the proof\n",
    "def prover(g,h,p,d,x,r):\n",
    "    ##convert x in integer\n",
    "    if not Is_prime(p):\n",
    "        print('{} n est pas premier!!!!'.format(p))\n",
    "    else:   \n",
    "        C=(pow(g,x)*pow(h,r))%p\n",
    "        k=random.randint(0,p-1)\n",
    "        t=random.randint(0,p-1)\n",
    "        R=(pow(g,k)*pow(h,t))%p\n",
    "        c=verifier_challenge(p)\n",
    "        z=(k-c*x)%p\n",
    "        y=(t-c*r)%p\n",
    "        pi,A=Return_Elt(d,x) ## d represent the Merkle tree\n",
    "        elt=pi[int(d[str(0)].index(x))]\n",
    "    \n",
    "    return z,y,pi,A,C,c,R,elt"
   ]
  },
  {
   "cell_type": "code",
   "execution_count": 271,
   "metadata": {
    "collapsed": false
   },
   "outputs": [
    {
     "data": {
      "text/plain": [
       "(5,\n",
       " 6,\n",
       " ['6b86b273ff34fce19d6b804eff5a3f5747ada4eaa22f1d49c01e52ddb7875b4b',\n",
       "  'd4735e3a265e16eee03f59718b9b5d03019c07d8b6c51f90da3a666eec13ab35',\n",
       "  '58d6bf2106bbfe0ef3e589024ef0db8a419ef13a839e272e50283c5b44894ecc',\n",
       "  'fc045d72cb6e2333159f084c1dd677d75f058df4570d09ec80e90b945fc74d27',\n",
       "  '7ffe87e849a349d244fe832b218e4d7f13368cac44eef06937e318c6651c4880',\n",
       "  '24bcdbf397bbb8f1455cb74f95f02a4b917fad8a82bf3b9687d6a3d020f401c2'],\n",
       " '84edd5c19e08390dc2c201722fe1df5194677c69230c24987db2769438900989',\n",
       " 2.0,\n",
       " 5,\n",
       " 3.0,\n",
       " 'd4735e3a265e16eee03f59718b9b5d03019c07d8b6c51f90da3a666eec13ab35')"
      ]
     },
     "execution_count": 271,
     "metadata": {},
     "output_type": "execute_result"
    }
   ],
   "source": [
    "g=2\n",
    "h=3\n",
    "p=5\n",
    "z,y,pi,A,C,c,R,elt=prover(2,3,7,d,2,4)\n",
    "z,y,pi,A,C,c,R,elt"
   ]
  },
  {
   "cell_type": "code",
   "execution_count": 272,
   "metadata": {
    "collapsed": false
   },
   "outputs": [
    {
     "data": {
      "text/plain": [
       "'84edd5c19e08390dc2c201722fe1df5194677c69230c24987db2769438900989'"
      ]
     },
     "execution_count": 272,
     "metadata": {},
     "output_type": "execute_result"
    }
   ],
   "source": [
    "A"
   ]
  },
  {
   "cell_type": "code",
   "execution_count": 273,
   "metadata": {
    "collapsed": false
   },
   "outputs": [
    {
     "data": {
      "text/plain": [
       "'d4735e3a265e16eee03f59718b9b5d03019c07d8b6c51f90da3a666eec13ab35'"
      ]
     },
     "execution_count": 273,
     "metadata": {},
     "output_type": "execute_result"
    }
   ],
   "source": [
    "elt"
   ]
  },
  {
   "cell_type": "code",
   "execution_count": 274,
   "metadata": {
    "collapsed": false
   },
   "outputs": [
    {
     "data": {
      "text/plain": [
       "True"
      ]
     },
     "execution_count": 274,
     "metadata": {},
     "output_type": "execute_result"
    }
   ],
   "source": [
    "Check_Membership(pi,elt,A)"
   ]
  },
  {
   "cell_type": "code",
   "execution_count": 275,
   "metadata": {
    "collapsed": true
   },
   "outputs": [],
   "source": [
    "#### Begin which verification\n",
    "def Verifier(g,h,p,z,y,pi,A,C,c,R,elt): #pi is hash list of intermediaite note\n",
    "    r=(pow(C,c)*pow(g,z)*pow(h,y))%p\n",
    "    bol=Check_Membership(pi,elt,A) \n",
    "    print(r,R)\n",
    "    if bol==True and r==R:\n",
    "        return True\n",
    "    return False\n"
   ]
  },
  {
   "cell_type": "code",
   "execution_count": 276,
   "metadata": {
    "collapsed": false
   },
   "outputs": [
    {
     "name": "stdout",
     "output_type": "stream",
     "text": [
      "(1.0, 3.0)\n"
     ]
    },
    {
     "data": {
      "text/plain": [
       "False"
      ]
     },
     "execution_count": 276,
     "metadata": {},
     "output_type": "execute_result"
    }
   ],
   "source": [
    "Verifier(g,h,p,z,y,pi,A,C,c,R,elt)"
   ]
  },
  {
   "cell_type": "code",
   "execution_count": 277,
   "metadata": {
    "collapsed": false
   },
   "outputs": [
    {
     "name": "stdout",
     "output_type": "stream",
     "text": [
      "(3.0, 4.0)\n",
      "L element d4735e3a265e16eee03f59718b9b5d03019c07d8b6c51f90da3a666eec13ab35 n'appartient a Data\n"
     ]
    }
   ],
   "source": [
    "def __main__():\n",
    "    g=2\n",
    "    h=3\n",
    "    p=7\n",
    "    Data= d\n",
    "    x=2\n",
    "    r=4\n",
    "    z,y,pi,A,C,c,R,elt=prover(g,h,p,d,x,r)\n",
    "    \n",
    "    if Verifier(g,h,p,z,y,pi,A,C,c,R,elt)==True:\n",
    "        print(\"L element {} appartient a Data\".format(elt))\n",
    "    else:\n",
    "        print(\"L element {} n'appartient a Data\".format(elt))\n",
    "__main__()"
   ]
  },
  {
   "cell_type": "code",
   "execution_count": null,
   "metadata": {
    "collapsed": true
   },
   "outputs": [],
   "source": []
  },
  {
   "cell_type": "code",
   "execution_count": null,
   "metadata": {
    "collapsed": true
   },
   "outputs": [],
   "source": []
  }
 ],
 "metadata": {
  "kernelspec": {
   "display_name": "Python 2",
   "language": "python",
   "name": "python2"
  },
  "language_info": {
   "codemirror_mode": {
    "name": "ipython",
    "version": 2
   },
   "file_extension": ".py",
   "mimetype": "text/x-python",
   "name": "python",
   "nbconvert_exporter": "python",
   "pygments_lexer": "ipython2",
   "version": "2.7.13"
  }
 },
 "nbformat": 4,
 "nbformat_minor": 2
}
