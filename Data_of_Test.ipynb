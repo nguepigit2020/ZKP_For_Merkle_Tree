{
 "cells": [
  {
   "cell_type": "code",
   "execution_count": 62,
   "metadata": {
    "collapsed": true
   },
   "outputs": [],
   "source": [
    "import pandas as pd\n",
    "import numpy as np\n",
    "from csv import *\n",
    "import csv"
   ]
  },
  {
   "cell_type": "code",
   "execution_count": 63,
   "metadata": {
    "collapsed": true
   },
   "outputs": [],
   "source": [
    "filePath = '/home/nguepi/Bureau/Git_repository/Projet_code/ZKP_For_Merkle_Tree/Data.csv'"
   ]
  },
  {
   "cell_type": "code",
   "execution_count": 64,
   "metadata": {
    "collapsed": false
   },
   "outputs": [
    {
     "data": {
      "text/html": [
       "<div>\n",
       "<table border=\"1\" class=\"dataframe\">\n",
       "  <thead>\n",
       "    <tr style=\"text-align: right;\">\n",
       "      <th></th>\n",
       "      <th>Nom</th>\n",
       "      <th>Pays d origine</th>\n",
       "      <th>Adresse e-mail</th>\n",
       "      <th>Ville de résidence</th>\n",
       "      <th>Code de Sécurité Social</th>\n",
       "      <th>Sexe</th>\n",
       "      <th>Situation matrimonial</th>\n",
       "    </tr>\n",
       "  </thead>\n",
       "  <tbody>\n",
       "    <tr>\n",
       "      <th>0</th>\n",
       "      <td>Nguepi</td>\n",
       "      <td>Cameroun</td>\n",
       "      <td>idriss.n.nguefack@aims-senegal.org</td>\n",
       "      <td>Mbour</td>\n",
       "      <td>56892</td>\n",
       "      <td>M</td>\n",
       "      <td>Celibataire</td>\n",
       "    </tr>\n",
       "    <tr>\n",
       "      <th>1</th>\n",
       "      <td>LOWE</td>\n",
       "      <td>Cameroun</td>\n",
       "      <td>650417150</td>\n",
       "      <td>DSCHANG</td>\n",
       "      <td>52698</td>\n",
       "      <td>F</td>\n",
       "      <td>Celibataire</td>\n",
       "    </tr>\n",
       "    <tr>\n",
       "      <th>2</th>\n",
       "      <td>MEITE</td>\n",
       "      <td>Côte d'Ivoire</td>\n",
       "      <td>nokememeitee@gmail.com</td>\n",
       "      <td>Mbour</td>\n",
       "      <td>52698</td>\n",
       "      <td>F</td>\n",
       "      <td>Celibataire</td>\n",
       "    </tr>\n",
       "    <tr>\n",
       "      <th>3</th>\n",
       "      <td>Elsa</td>\n",
       "      <td>Congo</td>\n",
       "      <td>idrissnguepi@yahoo</td>\n",
       "      <td>Dschang</td>\n",
       "      <td>54366</td>\n",
       "      <td>M</td>\n",
       "      <td>Marier</td>\n",
       "    </tr>\n",
       "    <tr>\n",
       "      <th>4</th>\n",
       "      <td>Jague</td>\n",
       "      <td>Cameroun</td>\n",
       "      <td>jaguenina@gmail.com</td>\n",
       "      <td>Douala</td>\n",
       "      <td>55555</td>\n",
       "      <td>F</td>\n",
       "      <td>Celibataire</td>\n",
       "    </tr>\n",
       "    <tr>\n",
       "      <th>5</th>\n",
       "      <td>TSAGUE</td>\n",
       "      <td>CAMEROUN</td>\n",
       "      <td>laurablondelle1998@.com</td>\n",
       "      <td>YAOUNDÉ</td>\n",
       "      <td>52698</td>\n",
       "      <td>F</td>\n",
       "      <td>Celibataire</td>\n",
       "    </tr>\n",
       "    <tr>\n",
       "      <th>6</th>\n",
       "      <td>ZOYUIM</td>\n",
       "      <td>Cameroun</td>\n",
       "      <td>zoyuimjuvintus@gmail.com</td>\n",
       "      <td>Yaoundé</td>\n",
       "      <td>52698</td>\n",
       "      <td>M</td>\n",
       "      <td>Celibataire</td>\n",
       "    </tr>\n",
       "    <tr>\n",
       "      <th>7</th>\n",
       "      <td>Jaza</td>\n",
       "      <td>Cameroun</td>\n",
       "      <td>jazafolefacksinclair@yahoo.fr</td>\n",
       "      <td>Douala</td>\n",
       "      <td>52698</td>\n",
       "      <td>M</td>\n",
       "      <td>Celibataire</td>\n",
       "    </tr>\n",
       "    <tr>\n",
       "      <th>8</th>\n",
       "      <td>Stella Elsa</td>\n",
       "      <td>Togo</td>\n",
       "      <td>elsyngam@gmail.com</td>\n",
       "      <td>Yaoundé</td>\n",
       "      <td>52698</td>\n",
       "      <td>F</td>\n",
       "      <td>Celibataire</td>\n",
       "    </tr>\n",
       "  </tbody>\n",
       "</table>\n",
       "</div>"
      ],
      "text/plain": [
       "           Nom Pays d origine                      Adresse e-mail  \\\n",
       "0       Nguepi       Cameroun  idriss.n.nguefack@aims-senegal.org   \n",
       "1        LOWE       Cameroun                            650417150   \n",
       "2        MEITE  Côte d'Ivoire              nokememeitee@gmail.com   \n",
       "3         Elsa          Congo                  idrissnguepi@yahoo   \n",
       "4        Jague       Cameroun                 jaguenina@gmail.com   \n",
       "5       TSAGUE       CAMEROUN             laurablondelle1998@.com   \n",
       "6      ZOYUIM        Cameroun            zoyuimjuvintus@gmail.com   \n",
       "7        Jaza        Cameroun       jazafolefacksinclair@yahoo.fr   \n",
       "8  Stella Elsa           Togo                  elsyngam@gmail.com   \n",
       "\n",
       "  Ville de résidence  Code de Sécurité Social Sexe Situation matrimonial  \n",
       "0              Mbour                    56892    M           Celibataire  \n",
       "1            DSCHANG                    52698    F           Celibataire  \n",
       "2              Mbour                    52698    F           Celibataire  \n",
       "3            Dschang                    54366    M                Marier  \n",
       "4             Douala                    55555    F           Celibataire  \n",
       "5            YAOUNDÉ                    52698    F           Celibataire  \n",
       "6            Yaoundé                    52698    M           Celibataire  \n",
       "7             Douala                    52698    M           Celibataire  \n",
       "8            Yaoundé                    52698    F           Celibataire  "
      ]
     },
     "execution_count": 64,
     "metadata": {},
     "output_type": "execute_result"
    }
   ],
   "source": [
    "Data=pd.read_csv(filePath)\n",
    "Data"
   ]
  },
  {
   "cell_type": "code",
   "execution_count": 54,
   "metadata": {
    "collapsed": false
   },
   "outputs": [],
   "source": [
    "import pandas as pd\n",
    "saved_column = Data.Nom #you can also use df['column_name']\n"
   ]
  },
  {
   "cell_type": "code",
   "execution_count": 55,
   "metadata": {
    "collapsed": false
   },
   "outputs": [],
   "source": [
    "L=[saved_column[i] for i in range(len(saved_column))]"
   ]
  },
  {
   "cell_type": "code",
   "execution_count": 56,
   "metadata": {
    "collapsed": false
   },
   "outputs": [
    {
     "data": {
      "text/plain": [
       "['Nguepi',\n",
       " 'LOWE ',\n",
       " 'MEITE',\n",
       " 'Jeft',\n",
       " 'Jague',\n",
       " 'TSAGUE',\n",
       " 'ZOYUIM ',\n",
       " 'Jaza ',\n",
       " 'Stella Elsa']"
      ]
     },
     "execution_count": 56,
     "metadata": {},
     "output_type": "execute_result"
    }
   ],
   "source": [
    "L"
   ]
  },
  {
   "cell_type": "code",
   "execution_count": 57,
   "metadata": {
    "collapsed": false
   },
   "outputs": [
    {
     "ename": "AttributeError",
     "evalue": "'_csv.reader' object has no attribute 'next'",
     "output_type": "error",
     "traceback": [
      "\u001b[0;31m---------------------------------------------------------------------------\u001b[0m",
      "\u001b[0;31mAttributeError\u001b[0m                            Traceback (most recent call last)",
      "\u001b[0;32m<ipython-input-57-ca5e8ab5bb17>\u001b[0m in \u001b[0;36m<module>\u001b[0;34m()\u001b[0m\n\u001b[1;32m      1\u001b[0m \u001b[0;32mwith\u001b[0m \u001b[0mopen\u001b[0m\u001b[0;34m(\u001b[0m\u001b[0;34m'Data.csv'\u001b[0m\u001b[0;34m)\u001b[0m \u001b[0;32mas\u001b[0m \u001b[0mf\u001b[0m\u001b[0;34m:\u001b[0m\u001b[0;34m\u001b[0m\u001b[0m\n\u001b[1;32m      2\u001b[0m     \u001b[0mreader\u001b[0m \u001b[0;34m=\u001b[0m\u001b[0mcsv\u001b[0m\u001b[0;34m.\u001b[0m\u001b[0mreader\u001b[0m\u001b[0;34m(\u001b[0m\u001b[0mf\u001b[0m\u001b[0;34m)\u001b[0m\u001b[0;34m\u001b[0m\u001b[0m\n\u001b[0;32m----> 3\u001b[0;31m     \u001b[0mreader\u001b[0m\u001b[0;34m.\u001b[0m\u001b[0mnext\u001b[0m\u001b[0;34m(\u001b[0m\u001b[0;34m)\u001b[0m\u001b[0;34m\u001b[0m\u001b[0m\n\u001b[0m\u001b[1;32m      4\u001b[0m     \u001b[0;32mfor\u001b[0m \u001b[0mrow\u001b[0m \u001b[0;32min\u001b[0m \u001b[0mreader\u001b[0m\u001b[0;34m:\u001b[0m\u001b[0;34m\u001b[0m\u001b[0m\n\u001b[1;32m      5\u001b[0m         \u001b[0;32mfor\u001b[0m \u001b[0;34m(\u001b[0m\u001b[0mi\u001b[0m\u001b[0;34m,\u001b[0m\u001b[0mv\u001b[0m\u001b[0;34m)\u001b[0m \u001b[0;32min\u001b[0m \u001b[0menumerate\u001b[0m\u001b[0;34m(\u001b[0m\u001b[0mrow\u001b[0m\u001b[0;34m)\u001b[0m\u001b[0;34m:\u001b[0m\u001b[0;34m\u001b[0m\u001b[0m\n",
      "\u001b[0;31mAttributeError\u001b[0m: '_csv.reader' object has no attribute 'next'"
     ]
    }
   ],
   "source": [
    "with open('Data.csv') as f:\n",
    "    reader =csv.reader(f)\n",
    "    reader.next()\n",
    "    for row in reader:\n",
    "        for (i,v) in enumerate(row):\n",
    "            columns[i].append(v)\n",
    "print(columns[0])\n"
   ]
  },
  {
   "cell_type": "code",
   "execution_count": 58,
   "metadata": {
    "collapsed": false
   },
   "outputs": [
    {
     "ename": "TypeError",
     "evalue": "a bytes-like object is required, not 'str'",
     "output_type": "error",
     "traceback": [
      "\u001b[0;31m---------------------------------------------------------------------------\u001b[0m",
      "\u001b[0;31mTypeError\u001b[0m                                 Traceback (most recent call last)",
      "\u001b[0;32m<ipython-input-58-13575404d534>\u001b[0m in \u001b[0;36m<module>\u001b[0;34m()\u001b[0m\n\u001b[1;32m      5\u001b[0m     \u001b[0mline\u001b[0m \u001b[0;34m=\u001b[0m \u001b[0mcsvfile\u001b[0m\u001b[0;34m.\u001b[0m\u001b[0mreadline\u001b[0m\u001b[0;34m(\u001b[0m\u001b[0;34m)\u001b[0m\u001b[0;34m\u001b[0m\u001b[0m\n\u001b[1;32m      6\u001b[0m \u001b[0;34m\u001b[0m\u001b[0m\n\u001b[0;32m----> 7\u001b[0;31m     \u001b[0mfirst_item\u001b[0m \u001b[0;34m=\u001b[0m \u001b[0mline\u001b[0m\u001b[0;34m.\u001b[0m\u001b[0msplit\u001b[0m\u001b[0;34m(\u001b[0m\u001b[0;34m','\u001b[0m\u001b[0;34m)\u001b[0m\u001b[0;34m\u001b[0m\u001b[0m\n\u001b[0m",
      "\u001b[0;31mTypeError\u001b[0m: a bytes-like object is required, not 'str'"
     ]
    }
   ],
   "source": [
    "with open('Data.csv', 'rb') as csvfile:\n",
    "\n",
    "    # get number of columns\n",
    "\n",
    "    line = csvfile.readline()\n",
    "\n",
    "    first_item = line.split(',')\n"
   ]
  },
  {
   "cell_type": "code",
   "execution_count": 61,
   "metadata": {
    "collapsed": false
   },
   "outputs": [
    {
     "name": "stdout",
     "output_type": "stream",
     "text": [
      "Nguepi\n",
      "LOWE \n",
      "MEITE\n",
      "Jeft\n",
      "Jague\n",
      "TSAGUE\n",
      "ZOYUIM \n",
      "Jaza \n",
      "Stella Elsa\n"
     ]
    }
   ],
   "source": [
    "with open('Data.csv', newline='') as csvfile:\n",
    "...     reader = csv.DictReader(csvfile)\n",
    "...     for row in reader:\n",
    "...         print(row['Nom'])"
   ]
  },
  {
   "cell_type": "code",
   "execution_count": null,
   "metadata": {
    "collapsed": true
   },
   "outputs": [],
   "source": []
  },
  {
   "cell_type": "code",
   "execution_count": null,
   "metadata": {
    "collapsed": true
   },
   "outputs": [],
   "source": []
  }
 ],
 "metadata": {
  "kernelspec": {
   "display_name": "Python 3",
   "language": "python",
   "name": "python3"
  },
  "language_info": {
   "codemirror_mode": {
    "name": "ipython",
    "version": 3
   },
   "file_extension": ".py",
   "mimetype": "text/x-python",
   "name": "python",
   "nbconvert_exporter": "python",
   "pygments_lexer": "ipython3",
   "version": "3.5.3"
  }
 },
 "nbformat": 4,
 "nbformat_minor": 2
}
